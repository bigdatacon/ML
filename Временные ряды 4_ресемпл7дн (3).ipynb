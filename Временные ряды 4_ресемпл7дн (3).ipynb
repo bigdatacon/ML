{
 "cells": [
  {
   "cell_type": "markdown",
   "metadata": {},
   "source": [
    "\n",
    "# Временные ряды 4. Построение и оценка модели\n",
    "##                                                              Обучаем и предсказываем\n",
    "\n",
    "Явления во времени можно рассматривать как \"черный ящик\", который зависит от многих переменных.Содержание ящика нам неизвестно, но его реакции на некоторые внешние воздействия мы можем наблюдать на примерах. Если наш гипотетический котенок, которого мы выращиваем, бегает за игрушкой каждый день, то мы можем предположить, что \"черный ящик - котенок\" почему-то реагирует на игрушку именно беготней. Нам вообще не важно как устроен котенок, мы видим постоянное явление: достали игрушку - котенок бегает. Более того, рассматривая довольно сложное явление траекторию движений котенка, мы можем это явление представить в виде некоторого временного ряда, где координаты от времени и связаны с предшествующим положением котенка (он же не телепортируется) и экзогенными факторами (траекторией движения игрушки или количеством вусняшек в миске котенка). Если при этом мы не пробуем описать устройство котенка, а только ищем связи между измеряемыми параметрами (признаками), то мы собираемся решить задачу обучения регрессионной модели нашего явления.    \n",
    "\n",
    "Попробуем понять, как построить модель явления во времени в такой форме. Вернемся к нашим рядам: \"Потребление энергии\" и \"Цена нефти BRENT\". Будем использовать предобработанные версии этих рядов с признаками из календаря.   "
   ]
  },
  {
   "cell_type": "markdown",
   "metadata": {},
   "source": [
    "\n",
    "## Потребление энергии\n",
    "\n",
    "Временной ряд связан с измерением потребления энергии в отдельных регионах США в период 2002 по 2018 г. (PJM Hourly Energy Consumption Data\n",
    "https://www.kaggle.com/robikscube/hourly-energy-consumption). Содержит часовые измерения и после обработки добавлены метки по времени для календаря.\n"
   ]
  },
  {
   "cell_type": "code",
   "execution_count": 1,
   "metadata": {
    "_cell_guid": "b1076dfc-b9ad-4769-8c92-a6c4dae69d19",
    "_uuid": "8f2839f25d086af736a60e9eeb907d3b93b6e0e5"
   },
   "outputs": [],
   "source": [
    "%matplotlib inline\n",
    "import matplotlib.pyplot as plt\n",
    "\n",
    "import numpy as np\n",
    "import pandas as pd \n",
    "import seaborn as sns\n",
    "\n",
    "\n",
    "from sklearn.metrics import mean_squared_error\n",
    "import os"
   ]
  },
  {
   "cell_type": "markdown",
   "metadata": {},
   "source": [
    "Загрузим файл с данными и посмотрим на таблицу их организующую."
   ]
  },
  {
   "cell_type": "code",
   "execution_count": 2,
   "metadata": {},
   "outputs": [
    {
     "data": {
      "text/html": [
       "<div>\n",
       "<style scoped>\n",
       "    .dataframe tbody tr th:only-of-type {\n",
       "        vertical-align: middle;\n",
       "    }\n",
       "\n",
       "    .dataframe tbody tr th {\n",
       "        vertical-align: top;\n",
       "    }\n",
       "\n",
       "    .dataframe thead th {\n",
       "        text-align: right;\n",
       "    }\n",
       "</style>\n",
       "<table border=\"1\" class=\"dataframe\">\n",
       "  <thead>\n",
       "    <tr style=\"text-align: right;\">\n",
       "      <th></th>\n",
       "      <th>Time</th>\n",
       "      <th>PJME_MW</th>\n",
       "      <th>year</th>\n",
       "      <th>month</th>\n",
       "      <th>dayofmonth</th>\n",
       "      <th>quarter</th>\n",
       "      <th>dayofyear</th>\n",
       "      <th>weekofyear</th>\n",
       "      <th>dayofweek</th>\n",
       "      <th>hour</th>\n",
       "      <th>is_holiday</th>\n",
       "      <th>is_prev_holiday</th>\n",
       "      <th>is_next_holiday</th>\n",
       "    </tr>\n",
       "    <tr>\n",
       "      <th>Date</th>\n",
       "      <th></th>\n",
       "      <th></th>\n",
       "      <th></th>\n",
       "      <th></th>\n",
       "      <th></th>\n",
       "      <th></th>\n",
       "      <th></th>\n",
       "      <th></th>\n",
       "      <th></th>\n",
       "      <th></th>\n",
       "      <th></th>\n",
       "      <th></th>\n",
       "      <th></th>\n",
       "    </tr>\n",
       "  </thead>\n",
       "  <tbody>\n",
       "    <tr>\n",
       "      <th>2002-01-01</th>\n",
       "      <td>01:00:00</td>\n",
       "      <td>30393.0</td>\n",
       "      <td>2002</td>\n",
       "      <td>1</td>\n",
       "      <td>1</td>\n",
       "      <td>1</td>\n",
       "      <td>1</td>\n",
       "      <td>1</td>\n",
       "      <td>1</td>\n",
       "      <td>1</td>\n",
       "      <td>1</td>\n",
       "      <td>0</td>\n",
       "      <td>0</td>\n",
       "    </tr>\n",
       "    <tr>\n",
       "      <th>2002-01-01</th>\n",
       "      <td>02:00:00</td>\n",
       "      <td>29265.0</td>\n",
       "      <td>2002</td>\n",
       "      <td>1</td>\n",
       "      <td>1</td>\n",
       "      <td>1</td>\n",
       "      <td>1</td>\n",
       "      <td>1</td>\n",
       "      <td>1</td>\n",
       "      <td>2</td>\n",
       "      <td>1</td>\n",
       "      <td>0</td>\n",
       "      <td>0</td>\n",
       "    </tr>\n",
       "    <tr>\n",
       "      <th>2002-01-01</th>\n",
       "      <td>03:00:00</td>\n",
       "      <td>28357.0</td>\n",
       "      <td>2002</td>\n",
       "      <td>1</td>\n",
       "      <td>1</td>\n",
       "      <td>1</td>\n",
       "      <td>1</td>\n",
       "      <td>1</td>\n",
       "      <td>1</td>\n",
       "      <td>3</td>\n",
       "      <td>1</td>\n",
       "      <td>0</td>\n",
       "      <td>0</td>\n",
       "    </tr>\n",
       "    <tr>\n",
       "      <th>2002-01-01</th>\n",
       "      <td>04:00:00</td>\n",
       "      <td>27899.0</td>\n",
       "      <td>2002</td>\n",
       "      <td>1</td>\n",
       "      <td>1</td>\n",
       "      <td>1</td>\n",
       "      <td>1</td>\n",
       "      <td>1</td>\n",
       "      <td>1</td>\n",
       "      <td>4</td>\n",
       "      <td>1</td>\n",
       "      <td>0</td>\n",
       "      <td>0</td>\n",
       "    </tr>\n",
       "    <tr>\n",
       "      <th>2002-01-01</th>\n",
       "      <td>05:00:00</td>\n",
       "      <td>28057.0</td>\n",
       "      <td>2002</td>\n",
       "      <td>1</td>\n",
       "      <td>1</td>\n",
       "      <td>1</td>\n",
       "      <td>1</td>\n",
       "      <td>1</td>\n",
       "      <td>1</td>\n",
       "      <td>5</td>\n",
       "      <td>1</td>\n",
       "      <td>0</td>\n",
       "      <td>0</td>\n",
       "    </tr>\n",
       "  </tbody>\n",
       "</table>\n",
       "</div>"
      ],
      "text/plain": [
       "                Time  PJME_MW  year  month  dayofmonth  quarter  dayofyear  \\\n",
       "Date                                                                         \n",
       "2002-01-01  01:00:00  30393.0  2002      1           1        1          1   \n",
       "2002-01-01  02:00:00  29265.0  2002      1           1        1          1   \n",
       "2002-01-01  03:00:00  28357.0  2002      1           1        1          1   \n",
       "2002-01-01  04:00:00  27899.0  2002      1           1        1          1   \n",
       "2002-01-01  05:00:00  28057.0  2002      1           1        1          1   \n",
       "\n",
       "            weekofyear  dayofweek  hour  is_holiday  is_prev_holiday  \\\n",
       "Date                                                                   \n",
       "2002-01-01           1          1     1           1                0   \n",
       "2002-01-01           1          1     2           1                0   \n",
       "2002-01-01           1          1     3           1                0   \n",
       "2002-01-01           1          1     4           1                0   \n",
       "2002-01-01           1          1     5           1                0   \n",
       "\n",
       "            is_next_holiday  \n",
       "Date                         \n",
       "2002-01-01                0  \n",
       "2002-01-01                0  \n",
       "2002-01-01                0  \n",
       "2002-01-01                0  \n",
       "2002-01-01                0  "
      ]
     },
     "execution_count": 2,
     "metadata": {},
     "output_type": "execute_result"
    }
   ],
   "source": [
    "#Path_Energy = 'PJME_hourly.csv'\n",
    "Path_Energy = 'my_PJME_MW.csv'\n",
    "data = pd.read_csv(Path_Energy, index_col=[0], parse_dates=[0])\n",
    "\n",
    "data.head()"
   ]
  },
  {
   "cell_type": "markdown",
   "metadata": {},
   "source": [
    "Общий вид изменения ключевого свойства ряда приведен на рис.1."
   ]
  },
  {
   "cell_type": "code",
   "execution_count": 3,
   "metadata": {},
   "outputs": [
    {
     "data": {
      "image/png": "[encoded data removed]",
      "text/plain": [
       "<Figure size 1440x288 with 1 Axes>"
      ]
     },
     "metadata": {
      "needs_background": "light"
     },
     "output_type": "display_data"
    }
   ],
   "source": [
    "plt.figure(figsize =(20,4))\n",
    "plt.plot( data.index, data['PJME_MW'], 'b' )\n",
    "plt.title('PJM East потребление энергии' )\n",
    "plt.ylabel ( 'МВт' )\n",
    "plt.show()"
   ]
  },
  {
   "cell_type": "markdown",
   "metadata": {},
   "source": [
    "Рис.1. Потребление энергии"
   ]
  },
  {
   "cell_type": "markdown",
   "metadata": {},
   "source": [
    "## Brent 2010-2019\n",
    "Перейдем ко второму примеру. Цена нефти марки Brent. Данные по дням от 2010 до 2019 . Данные были обработаны, но не меняли основное содержание ключевого признака. Отличие от исходного описания - дополнение признаками по календарю, как и в первом примере."
   ]
  },
  {
   "cell_type": "code",
   "execution_count": 4,
   "metadata": {},
   "outputs": [
    {
     "data": {
      "text/html": [
       "<div>\n",
       "<style scoped>\n",
       "    .dataframe tbody tr th:only-of-type {\n",
       "        vertical-align: middle;\n",
       "    }\n",
       "\n",
       "    .dataframe tbody tr th {\n",
       "        vertical-align: top;\n",
       "    }\n",
       "\n",
       "    .dataframe thead th {\n",
       "        text-align: right;\n",
       "    }\n",
       "</style>\n",
       "<table border=\"1\" class=\"dataframe\">\n",
       "  <thead>\n",
       "    <tr style=\"text-align: right;\">\n",
       "      <th></th>\n",
       "      <th>Значение</th>\n",
       "      <th>year</th>\n",
       "      <th>month</th>\n",
       "      <th>dayofmonth</th>\n",
       "      <th>quarter</th>\n",
       "      <th>dayofyear</th>\n",
       "      <th>weekofyear</th>\n",
       "      <th>dayofweek</th>\n",
       "      <th>is_holiday</th>\n",
       "      <th>is_prev_holiday</th>\n",
       "      <th>is_next_holiday</th>\n",
       "    </tr>\n",
       "    <tr>\n",
       "      <th>Дата</th>\n",
       "      <th></th>\n",
       "      <th></th>\n",
       "      <th></th>\n",
       "      <th></th>\n",
       "      <th></th>\n",
       "      <th></th>\n",
       "      <th></th>\n",
       "      <th></th>\n",
       "      <th></th>\n",
       "      <th></th>\n",
       "      <th></th>\n",
       "    </tr>\n",
       "  </thead>\n",
       "  <tbody>\n",
       "    <tr>\n",
       "      <th>2010-09-01</th>\n",
       "      <td>76.37</td>\n",
       "      <td>2010</td>\n",
       "      <td>9</td>\n",
       "      <td>1</td>\n",
       "      <td>3</td>\n",
       "      <td>244</td>\n",
       "      <td>35</td>\n",
       "      <td>2</td>\n",
       "      <td>0</td>\n",
       "      <td>0</td>\n",
       "      <td>0</td>\n",
       "    </tr>\n",
       "    <tr>\n",
       "      <th>2010-09-02</th>\n",
       "      <td>76.89</td>\n",
       "      <td>2010</td>\n",
       "      <td>9</td>\n",
       "      <td>2</td>\n",
       "      <td>3</td>\n",
       "      <td>245</td>\n",
       "      <td>35</td>\n",
       "      <td>3</td>\n",
       "      <td>0</td>\n",
       "      <td>0</td>\n",
       "      <td>0</td>\n",
       "    </tr>\n",
       "    <tr>\n",
       "      <th>2010-09-03</th>\n",
       "      <td>76.57</td>\n",
       "      <td>2010</td>\n",
       "      <td>9</td>\n",
       "      <td>3</td>\n",
       "      <td>3</td>\n",
       "      <td>246</td>\n",
       "      <td>35</td>\n",
       "      <td>4</td>\n",
       "      <td>0</td>\n",
       "      <td>0</td>\n",
       "      <td>0</td>\n",
       "    </tr>\n",
       "    <tr>\n",
       "      <th>2010-09-04</th>\n",
       "      <td>76.62</td>\n",
       "      <td>2010</td>\n",
       "      <td>9</td>\n",
       "      <td>4</td>\n",
       "      <td>3</td>\n",
       "      <td>247</td>\n",
       "      <td>35</td>\n",
       "      <td>5</td>\n",
       "      <td>0</td>\n",
       "      <td>0</td>\n",
       "      <td>0</td>\n",
       "    </tr>\n",
       "    <tr>\n",
       "      <th>2010-09-05</th>\n",
       "      <td>76.63</td>\n",
       "      <td>2010</td>\n",
       "      <td>9</td>\n",
       "      <td>5</td>\n",
       "      <td>3</td>\n",
       "      <td>248</td>\n",
       "      <td>35</td>\n",
       "      <td>6</td>\n",
       "      <td>0</td>\n",
       "      <td>1</td>\n",
       "      <td>0</td>\n",
       "    </tr>\n",
       "  </tbody>\n",
       "</table>\n",
       "</div>"
      ],
      "text/plain": [
       "            Значение  year  month  dayofmonth  quarter  dayofyear  weekofyear  \\\n",
       "Дата                                                                            \n",
       "2010-09-01     76.37  2010      9           1        3        244          35   \n",
       "2010-09-02     76.89  2010      9           2        3        245          35   \n",
       "2010-09-03     76.57  2010      9           3        3        246          35   \n",
       "2010-09-04     76.62  2010      9           4        3        247          35   \n",
       "2010-09-05     76.63  2010      9           5        3        248          35   \n",
       "\n",
       "            dayofweek  is_holiday  is_prev_holiday  is_next_holiday  \n",
       "Дата                                                                 \n",
       "2010-09-01          2           0                0                0  \n",
       "2010-09-02          3           0                0                0  \n",
       "2010-09-03          4           0                0                0  \n",
       "2010-09-04          5           0                0                0  \n",
       "2010-09-05          6           0                1                0  "
      ]
     },
     "execution_count": 4,
     "metadata": {},
     "output_type": "execute_result"
    }
   ],
   "source": [
    "\n",
    "#path_brent = 'brent_cl_m5_20120101_20121231.csv'\n",
    "#brent_data['Значение'] =brent_data['CLOSE']\n",
    "#brent_data = pd.read_csv(path_brent,sep = ';', index_col=[0], parse_dates=[0])\n",
    "path_brent = 'my_BRENT2019.csv'\n",
    "brent_data = pd.read_csv(path_brent,sep = ',', index_col=[0], parse_dates=[0])\n",
    "brent_data.head()"
   ]
  },
  {
   "cell_type": "markdown",
   "metadata": {},
   "source": [
    "Общий вид изменения цены по ряду приведен на рис.2."
   ]
  },
  {
   "cell_type": "code",
   "execution_count": 5,
   "metadata": {},
   "outputs": [
    {
     "data": {
      "text/plain": [
       "Text(0.5, 0, 't')"
      ]
     },
     "execution_count": 5,
     "metadata": {},
     "output_type": "execute_result"
    },
    {
     "data": {
      "image/png": "[encoded data removed]",
      "text/plain": [
       "<Figure size 1080x504 with 1 Axes>"
      ]
     },
     "metadata": {
      "needs_background": "light"
     },
     "output_type": "display_data"
    }
   ],
   "source": [
    "_ = brent_data['Значение'].plot( style='.', figsize=( 15, 7 ), title='Brent ')\n",
    "plt.ylabel('USA dollar')\n",
    "plt.xlabel('t')"
   ]
  },
  {
   "cell_type": "markdown",
   "metadata": {},
   "source": [
    "Рис.3 Цена нефти с 2010 по 2019"
   ]
  },
  {
   "cell_type": "markdown",
   "metadata": {},
   "source": [
    "### Методы машинного обучения для анализа рядов\n",
    "\n",
    "Попробуем построить предсказание значений наших рядов на основании исследования отдельных примеров прошлого и различных параметров окружающих наши данные (календарь, макроэкономические показатели и т.п.). Основные типы обучаемых моделей можно разобрать на 2 группы :\n",
    "- модель из одного решателя (линейная регрессия, нелинейная регрессия),\n",
    "- ансамбль решателей (т.е. \"коллектив\" функций, который вычислит общее мнение). Это, например, модели типа адаптивного бустинга.\n",
    "модели с одним решателем опираются на \"опыт\" единственного эксперта, который наблюдает явление и запоминает исходы при различных начальных условиях и в различные моменты времени. Ансамбли генерируют группу для совместной оценки, которая строит несколько решений одновременно и объединяет их в один ответ.\n",
    "\n",
    "Привлекательность моделей предсказания значений временных рядов на основе обучения связана с тем, что нет необходимости проводить оценку сложности неизвестной на входе в задачу модели связывающей прогнозируемую величину с ее предшествующими значениями или другими временными рядами. Фактически можно взять все, что есть в наличии и заложить в обучаемую модель как входные переменные. Практически так делать не стоит, т.к. \"плохие\" признаки в обучаемой модели усложнят ее и приведут к неустойчивой работе в части рабочего диапазона. Таким образом схема решения задачи прогнозирования для временных рядов в обучаемых моделях принимает вполне привычный для машинного обучения вид:\n",
    "- получить исходный ряд,\n",
    "- определить список экзогенных факторов (внешних по отношению к прогнозируемому ряду), которые вероятно влияют на прогноз,\n",
    "- определить глубину связей внутри ряда (ACF, PACF в помощь),\n",
    "- преобразовать признаки - feature engenering,\n",
    "- провести анализ признаков на важность и отделить важные - feature selection,\n",
    "- построить первичный набор моделей и выбрать модель для тонкой настройки,\n",
    "- подобрать гиперпараметры и провести обучение финальной модели,\n",
    "- оценить качество модели и вернуться к предшествующим этапам при необходимости.\n",
    "\n",
    "Следующий вопрос , который нужно решить, касается способа извлечения прогноза. Если мы следим за траекторией движения котенка, то у нас есть 2 варианта как определить его прогнозное положение через 1 минуту:\n",
    "\n",
    "1 ) предсказывать прямо действия котенка через 1 минуту, т.е. построить решатель f(x(t), ..,x(t-p),y(t),..,y(t-p),t) = y(t+1),x(t+1), где x(t), ..,x(t-p),y(t),..,y(t-p) - координаты котенка в последние р моментов времени и t - текущий момент, t+1 момент наблюдений, который наступит через 1 минуту и , соответственно, прогнозные координаты y(t+1),x(t+1).\n",
    "\n",
    "2 ) предсказывать f(x(t), ..,x(t-p),y(t),..,y(t-p),t) = y(t+dt),x(t+dt), т.е. предсказывать положение через dt<1 минуты, но проделать 1/dt циклов автопрогноза, опираясь на промежуточные y(t+dt),x(t+dt) , до достижения заданного горизонта прогнозирования.\n",
    "\n",
    "**Спрашивается, какая тактика приносит успех?** Понятно, что чем дальше прогнозируемая точка, тем больше ошибка прогноза. Если мы попробуем предсказать, где будет котенок через 10 минут, вероятность угадать может быть близкой к 0. С другой стороны, если поведение объекта циклично, то наши шансы на успех значительно вырастут. Поэтапное прогнозирование на небольшом промежутке предсказания, хотя бы сначала, будет давать лучшее решение, т.к. короче интервал прогноза. Однако попадание в точку желаемого горизонта прогноза потребует применить f(x(t), ..,x(t-p),y(t),..,y(t-p),t) = y(t+dt),x(t+dt) 1/dt раз, что приводит к потере времени и накоплению ошибок.\n",
    "\n",
    "Таким образом, следует обратиться к содержанию задачи прогнозирования и определить, уровень допустимой ошибки и что важнее в конкретных условиях: непрерывность решения (вариант 2) или получение конкретной точки (вариант генерации прогноза 1).\n",
    "\n",
    "Рассмотрим построение модели прогнозирования точек ряда для наших рабочих примеров.\n"
   ]
  },
  {
   "cell_type": "markdown",
   "metadata": {},
   "source": [
    "## Генерация признаков"
   ]
  },
  {
   "cell_type": "markdown",
   "metadata": {},
   "source": [
    "Построение признаков во временных рядах значительно зависит от семантики ряда и его проблемной области. Например, если мы пытаемся предсказывать биржевые показатели, то очевидно, что наш ряд зависит от календаря и внешних экономических причин (экзогенных факторов), которые никаким способом извлечь из самого ряда не выйдет. Другой случай, короткое предсказание аудиосигнала при обработке звука. Звук непрерывен и имеет выраженный периодический характер, что позволяет использовать новые признаки - коэффициенты спектрограмм или результаты вейвлет-анализа. Обычно, конечно , для звуковых рядов решают не задачу предсказания, а задачу оценки-классификации. Это еще один аспект анализа временных рядов, о котором поговорим в следующей теме. Однако, очевидно, что признаки, которые отлично сработают в одних рядах и задачах не сработают в других, внешне похожих, ситуациях. Будем рассматривать признаки влияние, которых на прогнозирование обычно положительно.\n",
    "\n",
    "Первый слой таких признаков мы уже построили - это признаки из календаря, которые позволяют увязывать сезоны, дни недели и часы дня. Выберем в качестве горизонт прогнозирования ряда \"Потребление энергии\" - среднее потребление в день на 1 день вперед. Это подразумевает, что часовая точность ряда нам не нужна. Сделаем ресемплинг на дни\n"
   ]
  },
  {
   "cell_type": "code",
   "execution_count": 6,
   "metadata": {},
   "outputs": [
    {
     "data": {
      "text/html": [
       "<div>\n",
       "<style scoped>\n",
       "    .dataframe tbody tr th:only-of-type {\n",
       "        vertical-align: middle;\n",
       "    }\n",
       "\n",
       "    .dataframe tbody tr th {\n",
       "        vertical-align: top;\n",
       "    }\n",
       "\n",
       "    .dataframe thead th {\n",
       "        text-align: right;\n",
       "    }\n",
       "</style>\n",
       "<table border=\"1\" class=\"dataframe\">\n",
       "  <thead>\n",
       "    <tr style=\"text-align: right;\">\n",
       "      <th></th>\n",
       "      <th>PJME_MW</th>\n",
       "      <th>year</th>\n",
       "      <th>month</th>\n",
       "      <th>dayofmonth</th>\n",
       "      <th>quarter</th>\n",
       "      <th>dayofyear</th>\n",
       "      <th>weekofyear</th>\n",
       "      <th>dayofweek</th>\n",
       "      <th>hour</th>\n",
       "      <th>is_holiday</th>\n",
       "      <th>is_prev_holiday</th>\n",
       "      <th>is_next_holiday</th>\n",
       "    </tr>\n",
       "    <tr>\n",
       "      <th>Date</th>\n",
       "      <th></th>\n",
       "      <th></th>\n",
       "      <th></th>\n",
       "      <th></th>\n",
       "      <th></th>\n",
       "      <th></th>\n",
       "      <th></th>\n",
       "      <th></th>\n",
       "      <th></th>\n",
       "      <th></th>\n",
       "      <th></th>\n",
       "      <th></th>\n",
       "    </tr>\n",
       "  </thead>\n",
       "  <tbody>\n",
       "    <tr>\n",
       "      <th>2002-01-06</th>\n",
       "      <td>32392.160839</td>\n",
       "      <td>2002.0</td>\n",
       "      <td>1.000000</td>\n",
       "      <td>3.517483</td>\n",
       "      <td>1.0</td>\n",
       "      <td>3.517483</td>\n",
       "      <td>1.0</td>\n",
       "      <td>3.517483</td>\n",
       "      <td>11.58042</td>\n",
       "      <td>0.160839</td>\n",
       "      <td>0.000000</td>\n",
       "      <td>0.167832</td>\n",
       "    </tr>\n",
       "    <tr>\n",
       "      <th>2002-01-13</th>\n",
       "      <td>31487.386905</td>\n",
       "      <td>2002.0</td>\n",
       "      <td>1.000000</td>\n",
       "      <td>10.000000</td>\n",
       "      <td>1.0</td>\n",
       "      <td>10.000000</td>\n",
       "      <td>2.0</td>\n",
       "      <td>3.000000</td>\n",
       "      <td>11.50000</td>\n",
       "      <td>0.000000</td>\n",
       "      <td>0.000000</td>\n",
       "      <td>0.000000</td>\n",
       "    </tr>\n",
       "    <tr>\n",
       "      <th>2002-01-20</th>\n",
       "      <td>31452.880952</td>\n",
       "      <td>2002.0</td>\n",
       "      <td>1.000000</td>\n",
       "      <td>17.000000</td>\n",
       "      <td>1.0</td>\n",
       "      <td>17.000000</td>\n",
       "      <td>3.0</td>\n",
       "      <td>3.000000</td>\n",
       "      <td>11.50000</td>\n",
       "      <td>0.000000</td>\n",
       "      <td>0.142857</td>\n",
       "      <td>0.000000</td>\n",
       "    </tr>\n",
       "    <tr>\n",
       "      <th>2002-01-27</th>\n",
       "      <td>30141.529762</td>\n",
       "      <td>2002.0</td>\n",
       "      <td>1.000000</td>\n",
       "      <td>24.000000</td>\n",
       "      <td>1.0</td>\n",
       "      <td>24.000000</td>\n",
       "      <td>4.0</td>\n",
       "      <td>3.000000</td>\n",
       "      <td>11.50000</td>\n",
       "      <td>0.142857</td>\n",
       "      <td>0.000000</td>\n",
       "      <td>0.142857</td>\n",
       "    </tr>\n",
       "    <tr>\n",
       "      <th>2002-02-03</th>\n",
       "      <td>29196.488095</td>\n",
       "      <td>2002.0</td>\n",
       "      <td>1.428571</td>\n",
       "      <td>17.714286</td>\n",
       "      <td>1.0</td>\n",
       "      <td>31.000000</td>\n",
       "      <td>5.0</td>\n",
       "      <td>3.000000</td>\n",
       "      <td>11.50000</td>\n",
       "      <td>0.000000</td>\n",
       "      <td>0.000000</td>\n",
       "      <td>0.000000</td>\n",
       "    </tr>\n",
       "  </tbody>\n",
       "</table>\n",
       "</div>"
      ],
      "text/plain": [
       "                 PJME_MW    year     month  dayofmonth  quarter  dayofyear  \\\n",
       "Date                                                                         \n",
       "2002-01-06  32392.160839  2002.0  1.000000    3.517483      1.0   3.517483   \n",
       "2002-01-13  31487.386905  2002.0  1.000000   10.000000      1.0  10.000000   \n",
       "2002-01-20  31452.880952  2002.0  1.000000   17.000000      1.0  17.000000   \n",
       "2002-01-27  30141.529762  2002.0  1.000000   24.000000      1.0  24.000000   \n",
       "2002-02-03  29196.488095  2002.0  1.428571   17.714286      1.0  31.000000   \n",
       "\n",
       "            weekofyear  dayofweek      hour  is_holiday  is_prev_holiday  \\\n",
       "Date                                                                       \n",
       "2002-01-06         1.0   3.517483  11.58042    0.160839         0.000000   \n",
       "2002-01-13         2.0   3.000000  11.50000    0.000000         0.000000   \n",
       "2002-01-20         3.0   3.000000  11.50000    0.000000         0.142857   \n",
       "2002-01-27         4.0   3.000000  11.50000    0.142857         0.000000   \n",
       "2002-02-03         5.0   3.000000  11.50000    0.000000         0.000000   \n",
       "\n",
       "            is_next_holiday  \n",
       "Date                         \n",
       "2002-01-06         0.167832  \n",
       "2002-01-13         0.000000  \n",
       "2002-01-20         0.000000  \n",
       "2002-01-27         0.142857  \n",
       "2002-02-03         0.000000  "
      ]
     },
     "execution_count": 6,
     "metadata": {},
     "output_type": "execute_result"
    }
   ],
   "source": [
    "# data_d = data.copy().resample('D').mean()\n",
    "data_d = data.copy().resample('W').mean()\n",
    "data_d.head()"
   ]
  },
  {
   "cell_type": "markdown",
   "metadata": {},
   "source": [
    "Удалим данные о часах, т.к. они потеряли актуальность"
   ]
  },
  {
   "cell_type": "code",
   "execution_count": 7,
   "metadata": {},
   "outputs": [
    {
     "data": {
      "text/html": [
       "<div>\n",
       "<style scoped>\n",
       "    .dataframe tbody tr th:only-of-type {\n",
       "        vertical-align: middle;\n",
       "    }\n",
       "\n",
       "    .dataframe tbody tr th {\n",
       "        vertical-align: top;\n",
       "    }\n",
       "\n",
       "    .dataframe thead th {\n",
       "        text-align: right;\n",
       "    }\n",
       "</style>\n",
       "<table border=\"1\" class=\"dataframe\">\n",
       "  <thead>\n",
       "    <tr style=\"text-align: right;\">\n",
       "      <th></th>\n",
       "      <th>PJME_MW</th>\n",
       "      <th>year</th>\n",
       "      <th>month</th>\n",
       "      <th>dayofmonth</th>\n",
       "      <th>quarter</th>\n",
       "      <th>dayofyear</th>\n",
       "      <th>weekofyear</th>\n",
       "      <th>dayofweek</th>\n",
       "      <th>is_holiday</th>\n",
       "      <th>is_prev_holiday</th>\n",
       "      <th>is_next_holiday</th>\n",
       "    </tr>\n",
       "    <tr>\n",
       "      <th>Date</th>\n",
       "      <th></th>\n",
       "      <th></th>\n",
       "      <th></th>\n",
       "      <th></th>\n",
       "      <th></th>\n",
       "      <th></th>\n",
       "      <th></th>\n",
       "      <th></th>\n",
       "      <th></th>\n",
       "      <th></th>\n",
       "      <th></th>\n",
       "    </tr>\n",
       "  </thead>\n",
       "  <tbody>\n",
       "    <tr>\n",
       "      <th>2002-01-06</th>\n",
       "      <td>32392.160839</td>\n",
       "      <td>2002.0</td>\n",
       "      <td>1.000000</td>\n",
       "      <td>3.517483</td>\n",
       "      <td>1.0</td>\n",
       "      <td>3.517483</td>\n",
       "      <td>1.0</td>\n",
       "      <td>3.517483</td>\n",
       "      <td>0.160839</td>\n",
       "      <td>0.000000</td>\n",
       "      <td>0.167832</td>\n",
       "    </tr>\n",
       "    <tr>\n",
       "      <th>2002-01-13</th>\n",
       "      <td>31487.386905</td>\n",
       "      <td>2002.0</td>\n",
       "      <td>1.000000</td>\n",
       "      <td>10.000000</td>\n",
       "      <td>1.0</td>\n",
       "      <td>10.000000</td>\n",
       "      <td>2.0</td>\n",
       "      <td>3.000000</td>\n",
       "      <td>0.000000</td>\n",
       "      <td>0.000000</td>\n",
       "      <td>0.000000</td>\n",
       "    </tr>\n",
       "    <tr>\n",
       "      <th>2002-01-20</th>\n",
       "      <td>31452.880952</td>\n",
       "      <td>2002.0</td>\n",
       "      <td>1.000000</td>\n",
       "      <td>17.000000</td>\n",
       "      <td>1.0</td>\n",
       "      <td>17.000000</td>\n",
       "      <td>3.0</td>\n",
       "      <td>3.000000</td>\n",
       "      <td>0.000000</td>\n",
       "      <td>0.142857</td>\n",
       "      <td>0.000000</td>\n",
       "    </tr>\n",
       "    <tr>\n",
       "      <th>2002-01-27</th>\n",
       "      <td>30141.529762</td>\n",
       "      <td>2002.0</td>\n",
       "      <td>1.000000</td>\n",
       "      <td>24.000000</td>\n",
       "      <td>1.0</td>\n",
       "      <td>24.000000</td>\n",
       "      <td>4.0</td>\n",
       "      <td>3.000000</td>\n",
       "      <td>0.142857</td>\n",
       "      <td>0.000000</td>\n",
       "      <td>0.142857</td>\n",
       "    </tr>\n",
       "    <tr>\n",
       "      <th>2002-02-03</th>\n",
       "      <td>29196.488095</td>\n",
       "      <td>2002.0</td>\n",
       "      <td>1.428571</td>\n",
       "      <td>17.714286</td>\n",
       "      <td>1.0</td>\n",
       "      <td>31.000000</td>\n",
       "      <td>5.0</td>\n",
       "      <td>3.000000</td>\n",
       "      <td>0.000000</td>\n",
       "      <td>0.000000</td>\n",
       "      <td>0.000000</td>\n",
       "    </tr>\n",
       "  </tbody>\n",
       "</table>\n",
       "</div>"
      ],
      "text/plain": [
       "                 PJME_MW    year     month  dayofmonth  quarter  dayofyear  \\\n",
       "Date                                                                         \n",
       "2002-01-06  32392.160839  2002.0  1.000000    3.517483      1.0   3.517483   \n",
       "2002-01-13  31487.386905  2002.0  1.000000   10.000000      1.0  10.000000   \n",
       "2002-01-20  31452.880952  2002.0  1.000000   17.000000      1.0  17.000000   \n",
       "2002-01-27  30141.529762  2002.0  1.000000   24.000000      1.0  24.000000   \n",
       "2002-02-03  29196.488095  2002.0  1.428571   17.714286      1.0  31.000000   \n",
       "\n",
       "            weekofyear  dayofweek  is_holiday  is_prev_holiday  \\\n",
       "Date                                                             \n",
       "2002-01-06         1.0   3.517483    0.160839         0.000000   \n",
       "2002-01-13         2.0   3.000000    0.000000         0.000000   \n",
       "2002-01-20         3.0   3.000000    0.000000         0.142857   \n",
       "2002-01-27         4.0   3.000000    0.142857         0.000000   \n",
       "2002-02-03         5.0   3.000000    0.000000         0.000000   \n",
       "\n",
       "            is_next_holiday  \n",
       "Date                         \n",
       "2002-01-06         0.167832  \n",
       "2002-01-13         0.000000  \n",
       "2002-01-20         0.000000  \n",
       "2002-01-27         0.142857  \n",
       "2002-02-03         0.000000  "
      ]
     },
     "execution_count": 7,
     "metadata": {},
     "output_type": "execute_result"
    }
   ],
   "source": [
    "data_d.drop('hour', axis=1,inplace=True)\n",
    "data_d.head()"
   ]
  },
  {
   "cell_type": "markdown",
   "metadata": {},
   "source": [
    "Категорийные признаки ['year','month','dayofmonth','quarter','dayofyear','weekofyear','dayofweek'] не стоит превращать в dummy-переменную, т.к. это приведет к значительному увеличению базы.\n",
    "Поскольку в годовом развороте ряда тренда нет (временные ряды 2 и 3), то признак 'year' можно исключить.\n"
   ]
  },
  {
   "cell_type": "code",
   "execution_count": 8,
   "metadata": {},
   "outputs": [],
   "source": [
    "data_d.drop('year', axis=1,inplace=True)"
   ]
  },
  {
   "cell_type": "code",
   "execution_count": 9,
   "metadata": {},
   "outputs": [
    {
     "data": {
      "text/html": [
       "<div>\n",
       "<style scoped>\n",
       "    .dataframe tbody tr th:only-of-type {\n",
       "        vertical-align: middle;\n",
       "    }\n",
       "\n",
       "    .dataframe tbody tr th {\n",
       "        vertical-align: top;\n",
       "    }\n",
       "\n",
       "    .dataframe thead th {\n",
       "        text-align: right;\n",
       "    }\n",
       "</style>\n",
       "<table border=\"1\" class=\"dataframe\">\n",
       "  <thead>\n",
       "    <tr style=\"text-align: right;\">\n",
       "      <th></th>\n",
       "      <th>PJME_MW</th>\n",
       "      <th>month</th>\n",
       "      <th>dayofmonth</th>\n",
       "      <th>quarter</th>\n",
       "      <th>dayofyear</th>\n",
       "      <th>weekofyear</th>\n",
       "      <th>dayofweek</th>\n",
       "      <th>is_holiday</th>\n",
       "      <th>is_prev_holiday</th>\n",
       "    </tr>\n",
       "    <tr>\n",
       "      <th>Date</th>\n",
       "      <th></th>\n",
       "      <th></th>\n",
       "      <th></th>\n",
       "      <th></th>\n",
       "      <th></th>\n",
       "      <th></th>\n",
       "      <th></th>\n",
       "      <th></th>\n",
       "      <th></th>\n",
       "    </tr>\n",
       "  </thead>\n",
       "  <tbody>\n",
       "    <tr>\n",
       "      <th>2002-01-06</th>\n",
       "      <td>32392.160839</td>\n",
       "      <td>1.000000</td>\n",
       "      <td>3.517483</td>\n",
       "      <td>1.0</td>\n",
       "      <td>3.517483</td>\n",
       "      <td>1.0</td>\n",
       "      <td>3.517483</td>\n",
       "      <td>0.160839</td>\n",
       "      <td>0.000000</td>\n",
       "    </tr>\n",
       "    <tr>\n",
       "      <th>2002-01-13</th>\n",
       "      <td>31487.386905</td>\n",
       "      <td>1.000000</td>\n",
       "      <td>10.000000</td>\n",
       "      <td>1.0</td>\n",
       "      <td>10.000000</td>\n",
       "      <td>2.0</td>\n",
       "      <td>3.000000</td>\n",
       "      <td>0.000000</td>\n",
       "      <td>0.000000</td>\n",
       "    </tr>\n",
       "    <tr>\n",
       "      <th>2002-01-20</th>\n",
       "      <td>31452.880952</td>\n",
       "      <td>1.000000</td>\n",
       "      <td>17.000000</td>\n",
       "      <td>1.0</td>\n",
       "      <td>17.000000</td>\n",
       "      <td>3.0</td>\n",
       "      <td>3.000000</td>\n",
       "      <td>0.000000</td>\n",
       "      <td>0.142857</td>\n",
       "    </tr>\n",
       "    <tr>\n",
       "      <th>2002-01-27</th>\n",
       "      <td>30141.529762</td>\n",
       "      <td>1.000000</td>\n",
       "      <td>24.000000</td>\n",
       "      <td>1.0</td>\n",
       "      <td>24.000000</td>\n",
       "      <td>4.0</td>\n",
       "      <td>3.000000</td>\n",
       "      <td>0.142857</td>\n",
       "      <td>0.000000</td>\n",
       "    </tr>\n",
       "    <tr>\n",
       "      <th>2002-02-03</th>\n",
       "      <td>29196.488095</td>\n",
       "      <td>1.428571</td>\n",
       "      <td>17.714286</td>\n",
       "      <td>1.0</td>\n",
       "      <td>31.000000</td>\n",
       "      <td>5.0</td>\n",
       "      <td>3.000000</td>\n",
       "      <td>0.000000</td>\n",
       "      <td>0.000000</td>\n",
       "    </tr>\n",
       "  </tbody>\n",
       "</table>\n",
       "</div>"
      ],
      "text/plain": [
       "                 PJME_MW     month  dayofmonth  quarter  dayofyear  \\\n",
       "Date                                                                 \n",
       "2002-01-06  32392.160839  1.000000    3.517483      1.0   3.517483   \n",
       "2002-01-13  31487.386905  1.000000   10.000000      1.0  10.000000   \n",
       "2002-01-20  31452.880952  1.000000   17.000000      1.0  17.000000   \n",
       "2002-01-27  30141.529762  1.000000   24.000000      1.0  24.000000   \n",
       "2002-02-03  29196.488095  1.428571   17.714286      1.0  31.000000   \n",
       "\n",
       "            weekofyear  dayofweek  is_holiday  is_prev_holiday  \n",
       "Date                                                            \n",
       "2002-01-06         1.0   3.517483    0.160839         0.000000  \n",
       "2002-01-13         2.0   3.000000    0.000000         0.000000  \n",
       "2002-01-20         3.0   3.000000    0.000000         0.142857  \n",
       "2002-01-27         4.0   3.000000    0.142857         0.000000  \n",
       "2002-02-03         5.0   3.000000    0.000000         0.000000  "
      ]
     },
     "execution_count": 9,
     "metadata": {},
     "output_type": "execute_result"
    }
   ],
   "source": [
    "data_d.iloc[:,:-1].head()"
   ]
  },
  {
   "cell_type": "markdown",
   "metadata": {},
   "source": [
    "Можно построить интегральный признак используя кластер-анализ или частичную классификацию. Начнем с признака по кластер-анализу. Воспользуемся методом kmeans, если можем предположить сколько будет кластеров, или DBSCAN, который не требует знания реального числа кластеров. "
   ]
  },
  {
   "cell_type": "code",
   "execution_count": 10,
   "metadata": {},
   "outputs": [],
   "source": [
    "from sklearn.cluster import KMeans, DBSCAN\n",
    "from sklearn.preprocessing import StandardScaler\n",
    "from sklearn.manifold import TSNE \n",
    "import seaborn as sns\n",
    "\n",
    "scl=StandardScaler()\n",
    "tsne_ =TSNE(n_components=2)\n",
    "\n",
    "X = data_d.iloc[:,:-1].values\n",
    "\n",
    "Xscale = scl.fit_transform(X)\n",
    "X_t = tsne_.fit_transform(Xscale)\n",
    "\n"
   ]
  },
  {
   "cell_type": "code",
   "execution_count": 11,
   "metadata": {},
   "outputs": [
    {
     "data": {
      "image/png": "[encoded data removed]",
      "text/plain": [
       "<Figure size 432x288 with 1 Axes>"
      ]
     },
     "metadata": {
      "needs_background": "light"
     },
     "output_type": "display_data"
    }
   ],
   "source": [
    "clast_0 = DBSCAN(eps=5, leaf_size=15 )\n",
    "clast_1 = DBSCAN(eps=2, leaf_size=5)\n",
    "X_clast =clast_0.fit_predict(X_t)\n",
    "X_scale_clast =clast_1.fit_predict(Xscale)\n",
    "\n",
    "sns.scatterplot(X_t[:,0],X_t[:,1], hue=X_clast)\n",
    "plt.show()"
   ]
  },
  {
   "cell_type": "code",
   "execution_count": 12,
   "metadata": {},
   "outputs": [
    {
     "data": {
      "image/png": "[encoded data removed]",
      "text/plain": [
       "<Figure size 432x288 with 1 Axes>"
      ]
     },
     "metadata": {
      "needs_background": "light"
     },
     "output_type": "display_data"
    }
   ],
   "source": [
    "sns.scatterplot(X_t[:,0],X_t[:,1], hue=X_scale_clast )\n",
    "plt.show()"
   ]
  },
  {
   "cell_type": "markdown",
   "metadata": {},
   "source": [
    "Рис.3. Результат кластер-анализа признаков"
   ]
  },
  {
   "cell_type": "code",
   "execution_count": 13,
   "metadata": {},
   "outputs": [
    {
     "name": "stdout",
     "output_type": "stream",
     "text": [
      "Число кластеров в календаре с масштабированием:  7\n",
      "Число кластеров в календаре:  10\n"
     ]
    }
   ],
   "source": [
    "print('Число кластеров в календаре с масштабированием: ',len(np.unique(X_scale_clast)))\n",
    "print('Число кластеров в календаре: ',len(np.unique(X_clast)))"
   ]
  },
  {
   "cell_type": "markdown",
   "metadata": {},
   "source": [
    "Вариант кластеризации с разметкой на рис.3 для случая масштабированных координат показывает отлично выделяемые кластеры с хорошим размещением объектов по группам. Принадлежность кластерам можно использовать в качестве нового признака и проверить качество обработки модели с новой координатой. В данном конкретном примере кластеризация без масштабирования, но с понижением размерности выглядит очень обосновано. Берем этот вариант за основу и добавим признак к общему описанию задачи. "
   ]
  },
  {
   "cell_type": "code",
   "execution_count": 14,
   "metadata": {},
   "outputs": [
    {
     "data": {
      "text/html": [
       "<div>\n",
       "<style scoped>\n",
       "    .dataframe tbody tr th:only-of-type {\n",
       "        vertical-align: middle;\n",
       "    }\n",
       "\n",
       "    .dataframe tbody tr th {\n",
       "        vertical-align: top;\n",
       "    }\n",
       "\n",
       "    .dataframe thead th {\n",
       "        text-align: right;\n",
       "    }\n",
       "</style>\n",
       "<table border=\"1\" class=\"dataframe\">\n",
       "  <thead>\n",
       "    <tr style=\"text-align: right;\">\n",
       "      <th></th>\n",
       "      <th>PJME_MW</th>\n",
       "      <th>month</th>\n",
       "      <th>dayofmonth</th>\n",
       "      <th>quarter</th>\n",
       "      <th>dayofyear</th>\n",
       "      <th>weekofyear</th>\n",
       "      <th>dayofweek</th>\n",
       "      <th>is_holiday</th>\n",
       "      <th>is_prev_holiday</th>\n",
       "      <th>is_next_holiday</th>\n",
       "      <th>day_week_month</th>\n",
       "    </tr>\n",
       "    <tr>\n",
       "      <th>Date</th>\n",
       "      <th></th>\n",
       "      <th></th>\n",
       "      <th></th>\n",
       "      <th></th>\n",
       "      <th></th>\n",
       "      <th></th>\n",
       "      <th></th>\n",
       "      <th></th>\n",
       "      <th></th>\n",
       "      <th></th>\n",
       "      <th></th>\n",
       "    </tr>\n",
       "  </thead>\n",
       "  <tbody>\n",
       "    <tr>\n",
       "      <th>2002-01-06</th>\n",
       "      <td>32392.160839</td>\n",
       "      <td>1.000000</td>\n",
       "      <td>3.517483</td>\n",
       "      <td>1.0</td>\n",
       "      <td>3.517483</td>\n",
       "      <td>1.0</td>\n",
       "      <td>3.517483</td>\n",
       "      <td>0.160839</td>\n",
       "      <td>0.0</td>\n",
       "      <td>0.167832</td>\n",
       "      <td>0</td>\n",
       "    </tr>\n",
       "    <tr>\n",
       "      <th>2002-01-27</th>\n",
       "      <td>30141.529762</td>\n",
       "      <td>1.000000</td>\n",
       "      <td>24.000000</td>\n",
       "      <td>1.0</td>\n",
       "      <td>24.000000</td>\n",
       "      <td>4.0</td>\n",
       "      <td>3.000000</td>\n",
       "      <td>0.142857</td>\n",
       "      <td>0.0</td>\n",
       "      <td>0.142857</td>\n",
       "      <td>0</td>\n",
       "    </tr>\n",
       "    <tr>\n",
       "      <th>2002-02-24</th>\n",
       "      <td>29144.130952</td>\n",
       "      <td>2.000000</td>\n",
       "      <td>21.000000</td>\n",
       "      <td>1.0</td>\n",
       "      <td>52.000000</td>\n",
       "      <td>8.0</td>\n",
       "      <td>3.000000</td>\n",
       "      <td>0.142857</td>\n",
       "      <td>0.0</td>\n",
       "      <td>0.142857</td>\n",
       "      <td>0</td>\n",
       "    </tr>\n",
       "    <tr>\n",
       "      <th>2002-06-02</th>\n",
       "      <td>31448.660714</td>\n",
       "      <td>5.285714</td>\n",
       "      <td>21.142857</td>\n",
       "      <td>2.0</td>\n",
       "      <td>150.000000</td>\n",
       "      <td>22.0</td>\n",
       "      <td>3.000000</td>\n",
       "      <td>0.142857</td>\n",
       "      <td>0.0</td>\n",
       "      <td>0.142857</td>\n",
       "      <td>0</td>\n",
       "    </tr>\n",
       "    <tr>\n",
       "      <th>2002-09-08</th>\n",
       "      <td>31535.172619</td>\n",
       "      <td>9.000000</td>\n",
       "      <td>5.000000</td>\n",
       "      <td>3.0</td>\n",
       "      <td>248.000000</td>\n",
       "      <td>36.0</td>\n",
       "      <td>3.000000</td>\n",
       "      <td>0.142857</td>\n",
       "      <td>0.0</td>\n",
       "      <td>0.142857</td>\n",
       "      <td>0</td>\n",
       "    </tr>\n",
       "    <tr>\n",
       "      <th>2002-10-20</th>\n",
       "      <td>27504.827381</td>\n",
       "      <td>10.000000</td>\n",
       "      <td>17.000000</td>\n",
       "      <td>4.0</td>\n",
       "      <td>290.000000</td>\n",
       "      <td>42.0</td>\n",
       "      <td>3.000000</td>\n",
       "      <td>0.142857</td>\n",
       "      <td>0.0</td>\n",
       "      <td>0.142857</td>\n",
       "      <td>0</td>\n",
       "    </tr>\n",
       "    <tr>\n",
       "      <th>2002-11-17</th>\n",
       "      <td>28881.886905</td>\n",
       "      <td>11.000000</td>\n",
       "      <td>14.000000</td>\n",
       "      <td>4.0</td>\n",
       "      <td>318.000000</td>\n",
       "      <td>46.0</td>\n",
       "      <td>3.000000</td>\n",
       "      <td>0.142857</td>\n",
       "      <td>0.0</td>\n",
       "      <td>0.142857</td>\n",
       "      <td>0</td>\n",
       "    </tr>\n",
       "    <tr>\n",
       "      <th>2003-01-26</th>\n",
       "      <td>37169.547619</td>\n",
       "      <td>1.000000</td>\n",
       "      <td>23.000000</td>\n",
       "      <td>1.0</td>\n",
       "      <td>23.000000</td>\n",
       "      <td>4.0</td>\n",
       "      <td>3.000000</td>\n",
       "      <td>0.142857</td>\n",
       "      <td>0.0</td>\n",
       "      <td>0.142857</td>\n",
       "      <td>0</td>\n",
       "    </tr>\n",
       "    <tr>\n",
       "      <th>2003-02-23</th>\n",
       "      <td>33023.458333</td>\n",
       "      <td>2.000000</td>\n",
       "      <td>20.000000</td>\n",
       "      <td>1.0</td>\n",
       "      <td>51.000000</td>\n",
       "      <td>8.0</td>\n",
       "      <td>3.000000</td>\n",
       "      <td>0.142857</td>\n",
       "      <td>0.0</td>\n",
       "      <td>0.142857</td>\n",
       "      <td>0</td>\n",
       "    </tr>\n",
       "    <tr>\n",
       "      <th>2003-06-01</th>\n",
       "      <td>26793.761905</td>\n",
       "      <td>5.142857</td>\n",
       "      <td>24.571429</td>\n",
       "      <td>2.0</td>\n",
       "      <td>149.000000</td>\n",
       "      <td>22.0</td>\n",
       "      <td>3.000000</td>\n",
       "      <td>0.142857</td>\n",
       "      <td>0.0</td>\n",
       "      <td>0.142857</td>\n",
       "      <td>0</td>\n",
       "    </tr>\n",
       "  </tbody>\n",
       "</table>\n",
       "</div>"
      ],
      "text/plain": [
       "                 PJME_MW      month  dayofmonth  quarter   dayofyear  \\\n",
       "Date                                                                   \n",
       "2002-01-06  32392.160839   1.000000    3.517483      1.0    3.517483   \n",
       "2002-01-27  30141.529762   1.000000   24.000000      1.0   24.000000   \n",
       "2002-02-24  29144.130952   2.000000   21.000000      1.0   52.000000   \n",
       "2002-06-02  31448.660714   5.285714   21.142857      2.0  150.000000   \n",
       "2002-09-08  31535.172619   9.000000    5.000000      3.0  248.000000   \n",
       "2002-10-20  27504.827381  10.000000   17.000000      4.0  290.000000   \n",
       "2002-11-17  28881.886905  11.000000   14.000000      4.0  318.000000   \n",
       "2003-01-26  37169.547619   1.000000   23.000000      1.0   23.000000   \n",
       "2003-02-23  33023.458333   2.000000   20.000000      1.0   51.000000   \n",
       "2003-06-01  26793.761905   5.142857   24.571429      2.0  149.000000   \n",
       "\n",
       "            weekofyear  dayofweek  is_holiday  is_prev_holiday  \\\n",
       "Date                                                             \n",
       "2002-01-06         1.0   3.517483    0.160839              0.0   \n",
       "2002-01-27         4.0   3.000000    0.142857              0.0   \n",
       "2002-02-24         8.0   3.000000    0.142857              0.0   \n",
       "2002-06-02        22.0   3.000000    0.142857              0.0   \n",
       "2002-09-08        36.0   3.000000    0.142857              0.0   \n",
       "2002-10-20        42.0   3.000000    0.142857              0.0   \n",
       "2002-11-17        46.0   3.000000    0.142857              0.0   \n",
       "2003-01-26         4.0   3.000000    0.142857              0.0   \n",
       "2003-02-23         8.0   3.000000    0.142857              0.0   \n",
       "2003-06-01        22.0   3.000000    0.142857              0.0   \n",
       "\n",
       "            is_next_holiday  day_week_month  \n",
       "Date                                         \n",
       "2002-01-06         0.167832               0  \n",
       "2002-01-27         0.142857               0  \n",
       "2002-02-24         0.142857               0  \n",
       "2002-06-02         0.142857               0  \n",
       "2002-09-08         0.142857               0  \n",
       "2002-10-20         0.142857               0  \n",
       "2002-11-17         0.142857               0  \n",
       "2003-01-26         0.142857               0  \n",
       "2003-02-23         0.142857               0  \n",
       "2003-06-01         0.142857               0  "
      ]
     },
     "execution_count": 14,
     "metadata": {},
     "output_type": "execute_result"
    }
   ],
   "source": [
    "data_d['day_week_month'] = X_clast\n",
    "data_d.iloc[np.where(data_d['day_week_month']==0)[0]].iloc[:10,:]"
   ]
  },
  {
   "cell_type": "markdown",
   "metadata": {},
   "source": [
    "В выборке объектов типа 0 собраны праздничные дни, а в типе 2 нового признака собрали субботы перед праздником:)."
   ]
  },
  {
   "cell_type": "code",
   "execution_count": 15,
   "metadata": {},
   "outputs": [
    {
     "data": {
      "text/html": [
       "<div>\n",
       "<style scoped>\n",
       "    .dataframe tbody tr th:only-of-type {\n",
       "        vertical-align: middle;\n",
       "    }\n",
       "\n",
       "    .dataframe tbody tr th {\n",
       "        vertical-align: top;\n",
       "    }\n",
       "\n",
       "    .dataframe thead th {\n",
       "        text-align: right;\n",
       "    }\n",
       "</style>\n",
       "<table border=\"1\" class=\"dataframe\">\n",
       "  <thead>\n",
       "    <tr style=\"text-align: right;\">\n",
       "      <th></th>\n",
       "      <th>PJME_MW</th>\n",
       "      <th>month</th>\n",
       "      <th>dayofmonth</th>\n",
       "      <th>quarter</th>\n",
       "      <th>dayofyear</th>\n",
       "      <th>weekofyear</th>\n",
       "      <th>dayofweek</th>\n",
       "      <th>is_holiday</th>\n",
       "      <th>is_prev_holiday</th>\n",
       "      <th>is_next_holiday</th>\n",
       "      <th>day_week_month</th>\n",
       "    </tr>\n",
       "    <tr>\n",
       "      <th>Date</th>\n",
       "      <th></th>\n",
       "      <th></th>\n",
       "      <th></th>\n",
       "      <th></th>\n",
       "      <th></th>\n",
       "      <th></th>\n",
       "      <th></th>\n",
       "      <th></th>\n",
       "      <th></th>\n",
       "      <th></th>\n",
       "      <th></th>\n",
       "    </tr>\n",
       "  </thead>\n",
       "  <tbody>\n",
       "    <tr>\n",
       "      <th>2002-01-20</th>\n",
       "      <td>31452.880952</td>\n",
       "      <td>1.0</td>\n",
       "      <td>17.0</td>\n",
       "      <td>1.0</td>\n",
       "      <td>17.0</td>\n",
       "      <td>3.0</td>\n",
       "      <td>3.0</td>\n",
       "      <td>0.0</td>\n",
       "      <td>0.142857</td>\n",
       "      <td>0.0</td>\n",
       "      <td>2</td>\n",
       "    </tr>\n",
       "    <tr>\n",
       "      <th>2002-02-17</th>\n",
       "      <td>30616.565476</td>\n",
       "      <td>2.0</td>\n",
       "      <td>14.0</td>\n",
       "      <td>1.0</td>\n",
       "      <td>45.0</td>\n",
       "      <td>7.0</td>\n",
       "      <td>3.0</td>\n",
       "      <td>0.0</td>\n",
       "      <td>0.142857</td>\n",
       "      <td>0.0</td>\n",
       "      <td>2</td>\n",
       "    </tr>\n",
       "    <tr>\n",
       "      <th>2003-01-19</th>\n",
       "      <td>35999.547619</td>\n",
       "      <td>1.0</td>\n",
       "      <td>16.0</td>\n",
       "      <td>1.0</td>\n",
       "      <td>16.0</td>\n",
       "      <td>3.0</td>\n",
       "      <td>3.0</td>\n",
       "      <td>0.0</td>\n",
       "      <td>0.142857</td>\n",
       "      <td>0.0</td>\n",
       "      <td>2</td>\n",
       "    </tr>\n",
       "    <tr>\n",
       "      <th>2003-02-16</th>\n",
       "      <td>35533.589286</td>\n",
       "      <td>2.0</td>\n",
       "      <td>13.0</td>\n",
       "      <td>1.0</td>\n",
       "      <td>44.0</td>\n",
       "      <td>7.0</td>\n",
       "      <td>3.0</td>\n",
       "      <td>0.0</td>\n",
       "      <td>0.142857</td>\n",
       "      <td>0.0</td>\n",
       "      <td>2</td>\n",
       "    </tr>\n",
       "    <tr>\n",
       "      <th>2004-01-18</th>\n",
       "      <td>36814.470238</td>\n",
       "      <td>1.0</td>\n",
       "      <td>15.0</td>\n",
       "      <td>1.0</td>\n",
       "      <td>15.0</td>\n",
       "      <td>3.0</td>\n",
       "      <td>3.0</td>\n",
       "      <td>0.0</td>\n",
       "      <td>0.142857</td>\n",
       "      <td>0.0</td>\n",
       "      <td>2</td>\n",
       "    </tr>\n",
       "    <tr>\n",
       "      <th>2004-02-15</th>\n",
       "      <td>33151.982143</td>\n",
       "      <td>2.0</td>\n",
       "      <td>12.0</td>\n",
       "      <td>1.0</td>\n",
       "      <td>43.0</td>\n",
       "      <td>7.0</td>\n",
       "      <td>3.0</td>\n",
       "      <td>0.0</td>\n",
       "      <td>0.142857</td>\n",
       "      <td>0.0</td>\n",
       "      <td>2</td>\n",
       "    </tr>\n",
       "    <tr>\n",
       "      <th>2005-01-16</th>\n",
       "      <td>32488.148810</td>\n",
       "      <td>1.0</td>\n",
       "      <td>13.0</td>\n",
       "      <td>1.0</td>\n",
       "      <td>13.0</td>\n",
       "      <td>2.0</td>\n",
       "      <td>3.0</td>\n",
       "      <td>0.0</td>\n",
       "      <td>0.142857</td>\n",
       "      <td>0.0</td>\n",
       "      <td>2</td>\n",
       "    </tr>\n",
       "    <tr>\n",
       "      <th>2005-02-20</th>\n",
       "      <td>33284.934524</td>\n",
       "      <td>2.0</td>\n",
       "      <td>17.0</td>\n",
       "      <td>1.0</td>\n",
       "      <td>48.0</td>\n",
       "      <td>7.0</td>\n",
       "      <td>3.0</td>\n",
       "      <td>0.0</td>\n",
       "      <td>0.142857</td>\n",
       "      <td>0.0</td>\n",
       "      <td>2</td>\n",
       "    </tr>\n",
       "    <tr>\n",
       "      <th>2006-01-15</th>\n",
       "      <td>31858.672619</td>\n",
       "      <td>1.0</td>\n",
       "      <td>12.0</td>\n",
       "      <td>1.0</td>\n",
       "      <td>12.0</td>\n",
       "      <td>2.0</td>\n",
       "      <td>3.0</td>\n",
       "      <td>0.0</td>\n",
       "      <td>0.142857</td>\n",
       "      <td>0.0</td>\n",
       "      <td>2</td>\n",
       "    </tr>\n",
       "    <tr>\n",
       "      <th>2006-02-19</th>\n",
       "      <td>33435.136905</td>\n",
       "      <td>2.0</td>\n",
       "      <td>16.0</td>\n",
       "      <td>1.0</td>\n",
       "      <td>47.0</td>\n",
       "      <td>7.0</td>\n",
       "      <td>3.0</td>\n",
       "      <td>0.0</td>\n",
       "      <td>0.142857</td>\n",
       "      <td>0.0</td>\n",
       "      <td>2</td>\n",
       "    </tr>\n",
       "  </tbody>\n",
       "</table>\n",
       "</div>"
      ],
      "text/plain": [
       "                 PJME_MW  month  dayofmonth  quarter  dayofyear  weekofyear  \\\n",
       "Date                                                                          \n",
       "2002-01-20  31452.880952    1.0        17.0      1.0       17.0         3.0   \n",
       "2002-02-17  30616.565476    2.0        14.0      1.0       45.0         7.0   \n",
       "2003-01-19  35999.547619    1.0        16.0      1.0       16.0         3.0   \n",
       "2003-02-16  35533.589286    2.0        13.0      1.0       44.0         7.0   \n",
       "2004-01-18  36814.470238    1.0        15.0      1.0       15.0         3.0   \n",
       "2004-02-15  33151.982143    2.0        12.0      1.0       43.0         7.0   \n",
       "2005-01-16  32488.148810    1.0        13.0      1.0       13.0         2.0   \n",
       "2005-02-20  33284.934524    2.0        17.0      1.0       48.0         7.0   \n",
       "2006-01-15  31858.672619    1.0        12.0      1.0       12.0         2.0   \n",
       "2006-02-19  33435.136905    2.0        16.0      1.0       47.0         7.0   \n",
       "\n",
       "            dayofweek  is_holiday  is_prev_holiday  is_next_holiday  \\\n",
       "Date                                                                  \n",
       "2002-01-20        3.0         0.0         0.142857              0.0   \n",
       "2002-02-17        3.0         0.0         0.142857              0.0   \n",
       "2003-01-19        3.0         0.0         0.142857              0.0   \n",
       "2003-02-16        3.0         0.0         0.142857              0.0   \n",
       "2004-01-18        3.0         0.0         0.142857              0.0   \n",
       "2004-02-15        3.0         0.0         0.142857              0.0   \n",
       "2005-01-16        3.0         0.0         0.142857              0.0   \n",
       "2005-02-20        3.0         0.0         0.142857              0.0   \n",
       "2006-01-15        3.0         0.0         0.142857              0.0   \n",
       "2006-02-19        3.0         0.0         0.142857              0.0   \n",
       "\n",
       "            day_week_month  \n",
       "Date                        \n",
       "2002-01-20               2  \n",
       "2002-02-17               2  \n",
       "2003-01-19               2  \n",
       "2003-02-16               2  \n",
       "2004-01-18               2  \n",
       "2004-02-15               2  \n",
       "2005-01-16               2  \n",
       "2005-02-20               2  \n",
       "2006-01-15               2  \n",
       "2006-02-19               2  "
      ]
     },
     "execution_count": 15,
     "metadata": {},
     "output_type": "execute_result"
    }
   ],
   "source": [
    "data_d.iloc[np.where(data_d['day_week_month']==2)[0]].iloc[:10,:]"
   ]
  },
  {
   "cell_type": "markdown",
   "metadata": {},
   "source": [
    "Другой путь получения новых признаков применение преобразований для понижения размерности. Пример такого преобразования приведен выще в процессе построения признака из кластерного анализа , использовали редукцию пространства с использованием модели t-SNE. Однако, эта модель характерна высокой вычислительной сложностью, что увеличивает время решения задачи. Более простая, хотя и линейная модель, это PCA - метод главных компонент. Поскольку наши координаты календаря вполне связаны, то можно проверить и такой путь объединения признаков. Добавим признак на основе компонетного анализа. Построим 2 компоненты по признакам из календаря , без значений ряда и допишем их в общую таблицу data_d."
   ]
  },
  {
   "cell_type": "code",
   "execution_count": 16,
   "metadata": {},
   "outputs": [
    {
     "data": {
      "text/plain": [
       "(866, 2)"
      ]
     },
     "execution_count": 16,
     "metadata": {},
     "output_type": "execute_result"
    }
   ],
   "source": [
    "from sklearn.decomposition import PCA\n",
    "\n",
    "pca = PCA(n_components=2, svd_solver='full')\n",
    "Xpca=pca.fit_transform(Xscale[:,1:])\n",
    "Xpca.shape"
   ]
  },
  {
   "cell_type": "code",
   "execution_count": 17,
   "metadata": {},
   "outputs": [],
   "source": [
    "data_d['pca1']=Xpca[:,0]\n",
    "data_d['pca2']=Xpca[:,1]"
   ]
  },
  {
   "cell_type": "markdown",
   "metadata": {},
   "source": [
    "Добавим новых признаков, описывающих содержание ряда. К таким признакам можно отнести разности ряда и разнообразные варианты сглаживания. Добавим к нашей модели 1-е разности. При этом следует помнить, что такие операции уменьшают общую длину корректной выборки на 1, т.е. первую строку данных следует исключить из модели в момент обучения."
   ]
  },
  {
   "cell_type": "code",
   "execution_count": 18,
   "metadata": {},
   "outputs": [],
   "source": [
    "first_diff =np.array(data_d.iloc[1:,0].values - data_d.iloc[:-1,0].values).astype('float32') \n",
    "data_d['diff1'] = 0\n",
    "data_d['diff1'] =  data_d['diff1'].astype('float') \n",
    "data_d['diff1'].values[1:] = first_diff"
   ]
  },
  {
   "cell_type": "markdown",
   "metadata": {},
   "source": [
    "Вообще можно добавить все, что можем придумать. Например, логарифм признака, частные признаков , частные логарифмов и т.д. "
   ]
  },
  {
   "cell_type": "code",
   "execution_count": 19,
   "metadata": {},
   "outputs": [],
   "source": [
    "first_diff_d =(first_diff) / data_d.iloc[1:,0].values\n",
    "data_d['diff1_d'] = 0\n",
    "data_d['diff1_d'] =  data_d['diff1_d'].astype('float') \n",
    "data_d['diff1_d'].values[1:] = np.array(first_diff_d).astype('float32')"
   ]
  },
  {
   "cell_type": "markdown",
   "metadata": {},
   "source": [
    "Можно, например, взять Бокс-Кокс преобразование (тут не работает, т.к. дисперсия постоянна - нет смысла)"
   ]
  },
  {
   "cell_type": "code",
   "execution_count": 20,
   "metadata": {},
   "outputs": [],
   "source": [
    "import scipy.stats as scs\n",
    "def invboxcox(y,lmbda):\n",
    "    # обрабтное преобразование Бокса-Кокса\n",
    "    if lmbda == 0:\n",
    "        return(np.exp(y))\n",
    "    else:\n",
    "        return(np.exp(np.log(lmbda*y+1)/lmbda))"
   ]
  },
  {
   "cell_type": "code",
   "execution_count": 21,
   "metadata": {},
   "outputs": [],
   "source": [
    "first_diff_l =np.log(data_d.iloc[1:,0].values) \n",
    "#first_diff_l, lmbda1 = scs.boxcox(data_d.iloc[1:,0].values) # НЕ РАБОТАЕТ , Т.К. АРГУМЕНТ ЛОГАРИФМА БЛИЗОК 0 \n",
    "data_d['diff1_l'] = 0\n",
    "data_d['diff1_l'] =  data_d['diff1_l'].astype('float') \n",
    "data_d['diff1_l'].values[1:] = first_diff_l"
   ]
  },
  {
   "cell_type": "markdown",
   "metadata": {},
   "source": [
    "Добавим скользящее среднее по всей модели с глубиной 7 дней. Размер окна определен длиной недельных циклов."
   ]
  },
  {
   "cell_type": "code",
   "execution_count": 22,
   "metadata": {},
   "outputs": [],
   "source": [
    "data_d['d_w7']=data_d['PJME_MW'].rolling(window=7).mean()"
   ]
  },
  {
   "cell_type": "markdown",
   "metadata": {},
   "source": [
    "А теперь добавим еще и экспонентциальную среднюю. Медленную, т.к. интересная информация лежит на уровне сезонных колебаний цены."
   ]
  },
  {
   "cell_type": "code",
   "execution_count": 23,
   "metadata": {},
   "outputs": [],
   "source": [
    "def exponential_smoothing(series, alpha):\n",
    "    result = [series[0]] \n",
    "    for n in range(1, len(series)):\n",
    "        result.append(alpha * series[n] + (1 - alpha) * result[n-1])\n",
    "    return result\n",
    "\n",
    "data_d['exp_0_05'] = exponential_smoothing(data_d['PJME_MW'], 0.05)\n"
   ]
  },
  {
   "cell_type": "markdown",
   "metadata": {},
   "source": [
    "В итоге данные примут вид "
   ]
  },
  {
   "cell_type": "code",
   "execution_count": 24,
   "metadata": {},
   "outputs": [
    {
     "data": {
      "text/html": [
       "<div>\n",
       "<style scoped>\n",
       "    .dataframe tbody tr th:only-of-type {\n",
       "        vertical-align: middle;\n",
       "    }\n",
       "\n",
       "    .dataframe tbody tr th {\n",
       "        vertical-align: top;\n",
       "    }\n",
       "\n",
       "    .dataframe thead th {\n",
       "        text-align: right;\n",
       "    }\n",
       "</style>\n",
       "<table border=\"1\" class=\"dataframe\">\n",
       "  <thead>\n",
       "    <tr style=\"text-align: right;\">\n",
       "      <th></th>\n",
       "      <th>PJME_MW</th>\n",
       "      <th>month</th>\n",
       "      <th>dayofmonth</th>\n",
       "      <th>quarter</th>\n",
       "      <th>dayofyear</th>\n",
       "      <th>weekofyear</th>\n",
       "      <th>dayofweek</th>\n",
       "      <th>is_holiday</th>\n",
       "      <th>is_prev_holiday</th>\n",
       "      <th>is_next_holiday</th>\n",
       "      <th>day_week_month</th>\n",
       "      <th>pca1</th>\n",
       "      <th>pca2</th>\n",
       "      <th>diff1</th>\n",
       "      <th>diff1_d</th>\n",
       "      <th>diff1_l</th>\n",
       "      <th>d_w7</th>\n",
       "      <th>exp_0_05</th>\n",
       "    </tr>\n",
       "    <tr>\n",
       "      <th>Date</th>\n",
       "      <th></th>\n",
       "      <th></th>\n",
       "      <th></th>\n",
       "      <th></th>\n",
       "      <th></th>\n",
       "      <th></th>\n",
       "      <th></th>\n",
       "      <th></th>\n",
       "      <th></th>\n",
       "      <th></th>\n",
       "      <th></th>\n",
       "      <th></th>\n",
       "      <th></th>\n",
       "      <th></th>\n",
       "      <th></th>\n",
       "      <th></th>\n",
       "      <th></th>\n",
       "      <th></th>\n",
       "    </tr>\n",
       "  </thead>\n",
       "  <tbody>\n",
       "    <tr>\n",
       "      <th>2002-03-17</th>\n",
       "      <td>28672.779762</td>\n",
       "      <td>3.0</td>\n",
       "      <td>14.000000</td>\n",
       "      <td>1.0</td>\n",
       "      <td>73.000000</td>\n",
       "      <td>11.0</td>\n",
       "      <td>3.000000</td>\n",
       "      <td>0.0</td>\n",
       "      <td>0.0</td>\n",
       "      <td>0.0</td>\n",
       "      <td>1</td>\n",
       "      <td>-2.283898</td>\n",
       "      <td>0.420823</td>\n",
       "      <td>-768.130981</td>\n",
       "      <td>-0.026790</td>\n",
       "      <td>10.263704</td>\n",
       "      <td>29727.200680</td>\n",
       "      <td>31436.852496</td>\n",
       "    </tr>\n",
       "    <tr>\n",
       "      <th>2002-03-24</th>\n",
       "      <td>29927.488095</td>\n",
       "      <td>3.0</td>\n",
       "      <td>21.000000</td>\n",
       "      <td>1.0</td>\n",
       "      <td>80.000000</td>\n",
       "      <td>12.0</td>\n",
       "      <td>3.000000</td>\n",
       "      <td>0.0</td>\n",
       "      <td>0.0</td>\n",
       "      <td>0.0</td>\n",
       "      <td>1</td>\n",
       "      <td>-2.181299</td>\n",
       "      <td>0.324182</td>\n",
       "      <td>1254.708374</td>\n",
       "      <td>0.041925</td>\n",
       "      <td>10.306533</td>\n",
       "      <td>29831.629252</td>\n",
       "      <td>31361.384276</td>\n",
       "    </tr>\n",
       "    <tr>\n",
       "      <th>2002-03-31</th>\n",
       "      <td>27595.869048</td>\n",
       "      <td>3.0</td>\n",
       "      <td>28.000000</td>\n",
       "      <td>1.0</td>\n",
       "      <td>87.000000</td>\n",
       "      <td>13.0</td>\n",
       "      <td>3.000000</td>\n",
       "      <td>0.0</td>\n",
       "      <td>0.0</td>\n",
       "      <td>0.0</td>\n",
       "      <td>1</td>\n",
       "      <td>-2.078700</td>\n",
       "      <td>0.227541</td>\n",
       "      <td>-2331.619141</td>\n",
       "      <td>-0.084492</td>\n",
       "      <td>10.225421</td>\n",
       "      <td>29323.822279</td>\n",
       "      <td>31173.108514</td>\n",
       "    </tr>\n",
       "    <tr>\n",
       "      <th>2002-04-07</th>\n",
       "      <td>28308.778443</td>\n",
       "      <td>4.0</td>\n",
       "      <td>3.982036</td>\n",
       "      <td>2.0</td>\n",
       "      <td>93.982036</td>\n",
       "      <td>14.0</td>\n",
       "      <td>2.982036</td>\n",
       "      <td>0.0</td>\n",
       "      <td>0.0</td>\n",
       "      <td>0.0</td>\n",
       "      <td>3</td>\n",
       "      <td>-1.534367</td>\n",
       "      <td>0.724047</td>\n",
       "      <td>712.909424</td>\n",
       "      <td>0.025183</td>\n",
       "      <td>10.250927</td>\n",
       "      <td>28994.138417</td>\n",
       "      <td>31029.892011</td>\n",
       "    </tr>\n",
       "    <tr>\n",
       "      <th>2002-04-14</th>\n",
       "      <td>27182.482143</td>\n",
       "      <td>4.0</td>\n",
       "      <td>11.000000</td>\n",
       "      <td>2.0</td>\n",
       "      <td>101.000000</td>\n",
       "      <td>15.0</td>\n",
       "      <td>3.000000</td>\n",
       "      <td>0.0</td>\n",
       "      <td>0.0</td>\n",
       "      <td>0.0</td>\n",
       "      <td>3</td>\n",
       "      <td>-1.436971</td>\n",
       "      <td>0.563263</td>\n",
       "      <td>-1126.296265</td>\n",
       "      <td>-0.041435</td>\n",
       "      <td>10.210328</td>\n",
       "      <td>28713.902873</td>\n",
       "      <td>30837.521517</td>\n",
       "    </tr>\n",
       "  </tbody>\n",
       "</table>\n",
       "</div>"
      ],
      "text/plain": [
       "                 PJME_MW  month  dayofmonth  quarter   dayofyear  weekofyear  \\\n",
       "Date                                                                           \n",
       "2002-03-17  28672.779762    3.0   14.000000      1.0   73.000000        11.0   \n",
       "2002-03-24  29927.488095    3.0   21.000000      1.0   80.000000        12.0   \n",
       "2002-03-31  27595.869048    3.0   28.000000      1.0   87.000000        13.0   \n",
       "2002-04-07  28308.778443    4.0    3.982036      2.0   93.982036        14.0   \n",
       "2002-04-14  27182.482143    4.0   11.000000      2.0  101.000000        15.0   \n",
       "\n",
       "            dayofweek  is_holiday  is_prev_holiday  is_next_holiday  \\\n",
       "Date                                                                  \n",
       "2002-03-17   3.000000         0.0              0.0              0.0   \n",
       "2002-03-24   3.000000         0.0              0.0              0.0   \n",
       "2002-03-31   3.000000         0.0              0.0              0.0   \n",
       "2002-04-07   2.982036         0.0              0.0              0.0   \n",
       "2002-04-14   3.000000         0.0              0.0              0.0   \n",
       "\n",
       "            day_week_month      pca1      pca2        diff1   diff1_d  \\\n",
       "Date                                                                    \n",
       "2002-03-17               1 -2.283898  0.420823  -768.130981 -0.026790   \n",
       "2002-03-24               1 -2.181299  0.324182  1254.708374  0.041925   \n",
       "2002-03-31               1 -2.078700  0.227541 -2331.619141 -0.084492   \n",
       "2002-04-07               3 -1.534367  0.724047   712.909424  0.025183   \n",
       "2002-04-14               3 -1.436971  0.563263 -1126.296265 -0.041435   \n",
       "\n",
       "              diff1_l          d_w7      exp_0_05  \n",
       "Date                                               \n",
       "2002-03-17  10.263704  29727.200680  31436.852496  \n",
       "2002-03-24  10.306533  29831.629252  31361.384276  \n",
       "2002-03-31  10.225421  29323.822279  31173.108514  \n",
       "2002-04-07  10.250927  28994.138417  31029.892011  \n",
       "2002-04-14  10.210328  28713.902873  30837.521517  "
      ]
     },
     "execution_count": 24,
     "metadata": {},
     "output_type": "execute_result"
    }
   ],
   "source": [
    "data_d.iloc[10:15,:]\n"
   ]
  },
  {
   "cell_type": "code",
   "execution_count": 25,
   "metadata": {},
   "outputs": [
    {
     "data": {
      "image/png": "[encoded data removed]",
      "text/plain": [
       "<Figure size 432x288 with 1 Axes>"
      ]
     },
     "metadata": {
      "needs_background": "light"
     },
     "output_type": "display_data"
    }
   ],
   "source": [
    "N100=200\n",
    "plt.plot(data_d.index[:N100],data_d['PJME_MW'][:N100],'r',label ='основной ряд')\n",
    "plt.plot(data_d.index[:N100],data_d['diff1'][:N100],'--k',label ='1-е разности')\n",
    "plt.plot(data_d.index[:N100],data_d['d_w7'][:N100],'--b',label ='скользящее среднее 7')\n",
    "plt.plot(data_d.index[:N100],data_d['exp_0_05'][:N100],'--g',label ='экспонентциальное среднее')\n",
    "plt.legend()\n",
    "plt.show()\n"
   ]
  },
  {
   "cell_type": "code",
   "execution_count": 26,
   "metadata": {},
   "outputs": [
    {
     "data": {
      "image/png": "[encoded data removed]",
      "text/plain": [
       "<Figure size 432x288 with 1 Axes>"
      ]
     },
     "metadata": {
      "needs_background": "light"
     },
     "output_type": "display_data"
    }
   ],
   "source": [
    "N100=200\n",
    "plt.plot(data_d.index[1:N100],data_d['diff1_l'][1:N100],'--k',label ='логарифм по ряду')\n",
    "\n",
    "plt.plot(data_d.index[1:N100],data_d['diff1_d'][1:N100],'--g',label ='относительные разности')\n",
    "plt.legend()\n",
    "plt.show()"
   ]
  },
  {
   "cell_type": "markdown",
   "metadata": {},
   "source": [
    "Проблема состоит в том, что подобных признаков можно построить бесконечное количество. Для определения разумных интервалов имеет смысл вспомнить результаты анализа ряда в статистических моделях. Период сезонных колебаний 13 недель и недельный цикл по дням. Это позволит не строить все возможные сочетания параметров модели, а сократить их число до относительно небольшого подмножества. Посмотрим на примере экспоненциальных средних в диапазоне alpha = [0.3, 0.8] "
   ]
  },
  {
   "cell_type": "code",
   "execution_count": 27,
   "metadata": {},
   "outputs": [
    {
     "data": {
      "image/png": "[encoded data removed]",
      "text/plain": [
       "<Figure size 432x288 with 1 Axes>"
      ]
     },
     "metadata": {
      "needs_background": "light"
     },
     "output_type": "display_data"
    }
   ],
   "source": [
    "data_d['exp_0_01'] = exponential_smoothing(data_d['PJME_MW'], 0.01)\n",
    "data_d['exp_0_03'] = exponential_smoothing(data_d['PJME_MW'], 0.03)\n",
    "data_d['exp_0_04'] = exponential_smoothing(data_d['PJME_MW'], 0.04)\n",
    "data_d['exp_0_06'] = exponential_smoothing(data_d['PJME_MW'], 0.06)\n",
    "data_d['exp_0_07'] = exponential_smoothing(data_d['PJME_MW'], 0.07)\n",
    "data_d['exp_0_08'] = exponential_smoothing(data_d['PJME_MW'], 0.08)\n",
    "\n",
    "N100=400\n",
    "plt.plot(data_d.index[:N100],data_d['PJME_MW'][:N100],'r',label ='основной ряд',alpha=0.3)\n",
    "plt.plot(data_d.index[:N100],data_d['exp_0_01'][:N100],'--g',label ='экспонентциальное среднее')\n",
    "plt.plot(data_d.index[:N100],data_d['exp_0_05'][:N100],'--b',label ='экспонентциальное среднее')\n",
    "plt.plot(data_d.index[:N100],data_d['exp_0_08'][:N100],'--k',label ='экспонентциальное среднее')\n",
    "plt.legend()\n",
    "plt.title('PJME MW')\n",
    "plt.show()"
   ]
  },
  {
   "cell_type": "code",
   "execution_count": 28,
   "metadata": {},
   "outputs": [],
   "source": [
    "data_d.iloc[:7,14]=0"
   ]
  },
  {
   "cell_type": "markdown",
   "metadata": {},
   "source": [
    "Добавим истории длиной p в признаках автокорреляции"
   ]
  },
  {
   "cell_type": "code",
   "execution_count": 29,
   "metadata": {},
   "outputs": [],
   "source": [
    "p = 14\n",
    "for i in range(p):\n",
    "    data_d['t'+str(p-i)]=0\n",
    "    data_d['t'+str(p-i)].values[p:] = data_d['PJME_MW'].values[i:-(p)+i]"
   ]
  },
  {
   "cell_type": "markdown",
   "metadata": {},
   "source": [
    "Аналогично добавляем первые разности на глубину p"
   ]
  },
  {
   "cell_type": "code",
   "execution_count": 30,
   "metadata": {},
   "outputs": [],
   "source": [
    "p = 14\n",
    "for i in range(p):\n",
    "    data_d['d'+str(p-i)]=0\n",
    "    data_d['d'+str(p-i)].values[p:] = data_d['diff1'].values[i:-(p)+i]"
   ]
  },
  {
   "cell_type": "markdown",
   "metadata": {},
   "source": [
    "Итоговая система признаков"
   ]
  },
  {
   "cell_type": "code",
   "execution_count": 31,
   "metadata": {
    "scrolled": true
   },
   "outputs": [
    {
     "data": {
      "text/html": [
       "<div>\n",
       "<style scoped>\n",
       "    .dataframe tbody tr th:only-of-type {\n",
       "        vertical-align: middle;\n",
       "    }\n",
       "\n",
       "    .dataframe tbody tr th {\n",
       "        vertical-align: top;\n",
       "    }\n",
       "\n",
       "    .dataframe thead th {\n",
       "        text-align: right;\n",
       "    }\n",
       "</style>\n",
       "<table border=\"1\" class=\"dataframe\">\n",
       "  <thead>\n",
       "    <tr style=\"text-align: right;\">\n",
       "      <th></th>\n",
       "      <th>PJME_MW</th>\n",
       "      <th>month</th>\n",
       "      <th>dayofmonth</th>\n",
       "      <th>quarter</th>\n",
       "      <th>dayofyear</th>\n",
       "      <th>weekofyear</th>\n",
       "      <th>dayofweek</th>\n",
       "      <th>is_holiday</th>\n",
       "      <th>is_prev_holiday</th>\n",
       "      <th>is_next_holiday</th>\n",
       "      <th>...</th>\n",
       "      <th>d10</th>\n",
       "      <th>d9</th>\n",
       "      <th>d8</th>\n",
       "      <th>d7</th>\n",
       "      <th>d6</th>\n",
       "      <th>d5</th>\n",
       "      <th>d4</th>\n",
       "      <th>d3</th>\n",
       "      <th>d2</th>\n",
       "      <th>d1</th>\n",
       "    </tr>\n",
       "    <tr>\n",
       "      <th>Date</th>\n",
       "      <th></th>\n",
       "      <th></th>\n",
       "      <th></th>\n",
       "      <th></th>\n",
       "      <th></th>\n",
       "      <th></th>\n",
       "      <th></th>\n",
       "      <th></th>\n",
       "      <th></th>\n",
       "      <th></th>\n",
       "      <th></th>\n",
       "      <th></th>\n",
       "      <th></th>\n",
       "      <th></th>\n",
       "      <th></th>\n",
       "      <th></th>\n",
       "      <th></th>\n",
       "      <th></th>\n",
       "      <th></th>\n",
       "      <th></th>\n",
       "      <th></th>\n",
       "    </tr>\n",
       "  </thead>\n",
       "  <tbody>\n",
       "    <tr>\n",
       "      <th>2002-01-06</th>\n",
       "      <td>32392.160839</td>\n",
       "      <td>1.000000</td>\n",
       "      <td>3.517483</td>\n",
       "      <td>1.0</td>\n",
       "      <td>3.517483</td>\n",
       "      <td>1.0</td>\n",
       "      <td>3.517483</td>\n",
       "      <td>0.160839</td>\n",
       "      <td>0.000000</td>\n",
       "      <td>0.167832</td>\n",
       "      <td>...</td>\n",
       "      <td>0</td>\n",
       "      <td>0</td>\n",
       "      <td>0</td>\n",
       "      <td>0</td>\n",
       "      <td>0</td>\n",
       "      <td>0</td>\n",
       "      <td>0</td>\n",
       "      <td>0</td>\n",
       "      <td>0</td>\n",
       "      <td>0</td>\n",
       "    </tr>\n",
       "    <tr>\n",
       "      <th>2002-01-13</th>\n",
       "      <td>31487.386905</td>\n",
       "      <td>1.000000</td>\n",
       "      <td>10.000000</td>\n",
       "      <td>1.0</td>\n",
       "      <td>10.000000</td>\n",
       "      <td>2.0</td>\n",
       "      <td>3.000000</td>\n",
       "      <td>0.000000</td>\n",
       "      <td>0.000000</td>\n",
       "      <td>0.000000</td>\n",
       "      <td>...</td>\n",
       "      <td>0</td>\n",
       "      <td>0</td>\n",
       "      <td>0</td>\n",
       "      <td>0</td>\n",
       "      <td>0</td>\n",
       "      <td>0</td>\n",
       "      <td>0</td>\n",
       "      <td>0</td>\n",
       "      <td>0</td>\n",
       "      <td>0</td>\n",
       "    </tr>\n",
       "    <tr>\n",
       "      <th>2002-01-20</th>\n",
       "      <td>31452.880952</td>\n",
       "      <td>1.000000</td>\n",
       "      <td>17.000000</td>\n",
       "      <td>1.0</td>\n",
       "      <td>17.000000</td>\n",
       "      <td>3.0</td>\n",
       "      <td>3.000000</td>\n",
       "      <td>0.000000</td>\n",
       "      <td>0.142857</td>\n",
       "      <td>0.000000</td>\n",
       "      <td>...</td>\n",
       "      <td>0</td>\n",
       "      <td>0</td>\n",
       "      <td>0</td>\n",
       "      <td>0</td>\n",
       "      <td>0</td>\n",
       "      <td>0</td>\n",
       "      <td>0</td>\n",
       "      <td>0</td>\n",
       "      <td>0</td>\n",
       "      <td>0</td>\n",
       "    </tr>\n",
       "    <tr>\n",
       "      <th>2002-01-27</th>\n",
       "      <td>30141.529762</td>\n",
       "      <td>1.000000</td>\n",
       "      <td>24.000000</td>\n",
       "      <td>1.0</td>\n",
       "      <td>24.000000</td>\n",
       "      <td>4.0</td>\n",
       "      <td>3.000000</td>\n",
       "      <td>0.142857</td>\n",
       "      <td>0.000000</td>\n",
       "      <td>0.142857</td>\n",
       "      <td>...</td>\n",
       "      <td>0</td>\n",
       "      <td>0</td>\n",
       "      <td>0</td>\n",
       "      <td>0</td>\n",
       "      <td>0</td>\n",
       "      <td>0</td>\n",
       "      <td>0</td>\n",
       "      <td>0</td>\n",
       "      <td>0</td>\n",
       "      <td>0</td>\n",
       "    </tr>\n",
       "    <tr>\n",
       "      <th>2002-02-03</th>\n",
       "      <td>29196.488095</td>\n",
       "      <td>1.428571</td>\n",
       "      <td>17.714286</td>\n",
       "      <td>1.0</td>\n",
       "      <td>31.000000</td>\n",
       "      <td>5.0</td>\n",
       "      <td>3.000000</td>\n",
       "      <td>0.000000</td>\n",
       "      <td>0.000000</td>\n",
       "      <td>0.000000</td>\n",
       "      <td>...</td>\n",
       "      <td>0</td>\n",
       "      <td>0</td>\n",
       "      <td>0</td>\n",
       "      <td>0</td>\n",
       "      <td>0</td>\n",
       "      <td>0</td>\n",
       "      <td>0</td>\n",
       "      <td>0</td>\n",
       "      <td>0</td>\n",
       "      <td>0</td>\n",
       "    </tr>\n",
       "    <tr>\n",
       "      <th>2002-02-10</th>\n",
       "      <td>31150.517857</td>\n",
       "      <td>2.000000</td>\n",
       "      <td>7.000000</td>\n",
       "      <td>1.0</td>\n",
       "      <td>38.000000</td>\n",
       "      <td>6.0</td>\n",
       "      <td>3.000000</td>\n",
       "      <td>0.000000</td>\n",
       "      <td>0.000000</td>\n",
       "      <td>0.000000</td>\n",
       "      <td>...</td>\n",
       "      <td>0</td>\n",
       "      <td>0</td>\n",
       "      <td>0</td>\n",
       "      <td>0</td>\n",
       "      <td>0</td>\n",
       "      <td>0</td>\n",
       "      <td>0</td>\n",
       "      <td>0</td>\n",
       "      <td>0</td>\n",
       "      <td>0</td>\n",
       "    </tr>\n",
       "    <tr>\n",
       "      <th>2002-02-17</th>\n",
       "      <td>30616.565476</td>\n",
       "      <td>2.000000</td>\n",
       "      <td>14.000000</td>\n",
       "      <td>1.0</td>\n",
       "      <td>45.000000</td>\n",
       "      <td>7.0</td>\n",
       "      <td>3.000000</td>\n",
       "      <td>0.000000</td>\n",
       "      <td>0.142857</td>\n",
       "      <td>0.000000</td>\n",
       "      <td>...</td>\n",
       "      <td>0</td>\n",
       "      <td>0</td>\n",
       "      <td>0</td>\n",
       "      <td>0</td>\n",
       "      <td>0</td>\n",
       "      <td>0</td>\n",
       "      <td>0</td>\n",
       "      <td>0</td>\n",
       "      <td>0</td>\n",
       "      <td>0</td>\n",
       "    </tr>\n",
       "    <tr>\n",
       "      <th>2002-02-24</th>\n",
       "      <td>29144.130952</td>\n",
       "      <td>2.000000</td>\n",
       "      <td>21.000000</td>\n",
       "      <td>1.0</td>\n",
       "      <td>52.000000</td>\n",
       "      <td>8.0</td>\n",
       "      <td>3.000000</td>\n",
       "      <td>0.142857</td>\n",
       "      <td>0.000000</td>\n",
       "      <td>0.142857</td>\n",
       "      <td>...</td>\n",
       "      <td>0</td>\n",
       "      <td>0</td>\n",
       "      <td>0</td>\n",
       "      <td>0</td>\n",
       "      <td>0</td>\n",
       "      <td>0</td>\n",
       "      <td>0</td>\n",
       "      <td>0</td>\n",
       "      <td>0</td>\n",
       "      <td>0</td>\n",
       "    </tr>\n",
       "    <tr>\n",
       "      <th>2002-03-03</th>\n",
       "      <td>29869.011905</td>\n",
       "      <td>2.428571</td>\n",
       "      <td>16.000000</td>\n",
       "      <td>1.0</td>\n",
       "      <td>59.000000</td>\n",
       "      <td>9.0</td>\n",
       "      <td>3.000000</td>\n",
       "      <td>0.000000</td>\n",
       "      <td>0.000000</td>\n",
       "      <td>0.000000</td>\n",
       "      <td>...</td>\n",
       "      <td>0</td>\n",
       "      <td>0</td>\n",
       "      <td>0</td>\n",
       "      <td>0</td>\n",
       "      <td>0</td>\n",
       "      <td>0</td>\n",
       "      <td>0</td>\n",
       "      <td>0</td>\n",
       "      <td>0</td>\n",
       "      <td>0</td>\n",
       "    </tr>\n",
       "    <tr>\n",
       "      <th>2002-03-10</th>\n",
       "      <td>29440.910714</td>\n",
       "      <td>3.000000</td>\n",
       "      <td>7.000000</td>\n",
       "      <td>1.0</td>\n",
       "      <td>66.000000</td>\n",
       "      <td>10.0</td>\n",
       "      <td>3.000000</td>\n",
       "      <td>0.000000</td>\n",
       "      <td>0.000000</td>\n",
       "      <td>0.000000</td>\n",
       "      <td>...</td>\n",
       "      <td>0</td>\n",
       "      <td>0</td>\n",
       "      <td>0</td>\n",
       "      <td>0</td>\n",
       "      <td>0</td>\n",
       "      <td>0</td>\n",
       "      <td>0</td>\n",
       "      <td>0</td>\n",
       "      <td>0</td>\n",
       "      <td>0</td>\n",
       "    </tr>\n",
       "  </tbody>\n",
       "</table>\n",
       "<p>10 rows × 52 columns</p>\n",
       "</div>"
      ],
      "text/plain": [
       "                 PJME_MW     month  dayofmonth  quarter  dayofyear  \\\n",
       "Date                                                                 \n",
       "2002-01-06  32392.160839  1.000000    3.517483      1.0   3.517483   \n",
       "2002-01-13  31487.386905  1.000000   10.000000      1.0  10.000000   \n",
       "2002-01-20  31452.880952  1.000000   17.000000      1.0  17.000000   \n",
       "2002-01-27  30141.529762  1.000000   24.000000      1.0  24.000000   \n",
       "2002-02-03  29196.488095  1.428571   17.714286      1.0  31.000000   \n",
       "2002-02-10  31150.517857  2.000000    7.000000      1.0  38.000000   \n",
       "2002-02-17  30616.565476  2.000000   14.000000      1.0  45.000000   \n",
       "2002-02-24  29144.130952  2.000000   21.000000      1.0  52.000000   \n",
       "2002-03-03  29869.011905  2.428571   16.000000      1.0  59.000000   \n",
       "2002-03-10  29440.910714  3.000000    7.000000      1.0  66.000000   \n",
       "\n",
       "            weekofyear  dayofweek  is_holiday  is_prev_holiday  \\\n",
       "Date                                                             \n",
       "2002-01-06         1.0   3.517483    0.160839         0.000000   \n",
       "2002-01-13         2.0   3.000000    0.000000         0.000000   \n",
       "2002-01-20         3.0   3.000000    0.000000         0.142857   \n",
       "2002-01-27         4.0   3.000000    0.142857         0.000000   \n",
       "2002-02-03         5.0   3.000000    0.000000         0.000000   \n",
       "2002-02-10         6.0   3.000000    0.000000         0.000000   \n",
       "2002-02-17         7.0   3.000000    0.000000         0.142857   \n",
       "2002-02-24         8.0   3.000000    0.142857         0.000000   \n",
       "2002-03-03         9.0   3.000000    0.000000         0.000000   \n",
       "2002-03-10        10.0   3.000000    0.000000         0.000000   \n",
       "\n",
       "            is_next_holiday  ...  d10  d9  d8  d7  d6  d5  d4  d3  d2  d1  \n",
       "Date                         ...                                           \n",
       "2002-01-06         0.167832  ...    0   0   0   0   0   0   0   0   0   0  \n",
       "2002-01-13         0.000000  ...    0   0   0   0   0   0   0   0   0   0  \n",
       "2002-01-20         0.000000  ...    0   0   0   0   0   0   0   0   0   0  \n",
       "2002-01-27         0.142857  ...    0   0   0   0   0   0   0   0   0   0  \n",
       "2002-02-03         0.000000  ...    0   0   0   0   0   0   0   0   0   0  \n",
       "2002-02-10         0.000000  ...    0   0   0   0   0   0   0   0   0   0  \n",
       "2002-02-17         0.000000  ...    0   0   0   0   0   0   0   0   0   0  \n",
       "2002-02-24         0.142857  ...    0   0   0   0   0   0   0   0   0   0  \n",
       "2002-03-03         0.000000  ...    0   0   0   0   0   0   0   0   0   0  \n",
       "2002-03-10         0.000000  ...    0   0   0   0   0   0   0   0   0   0  \n",
       "\n",
       "[10 rows x 52 columns]"
      ]
     },
     "execution_count": 31,
     "metadata": {},
     "output_type": "execute_result"
    }
   ],
   "source": [
    "data_d.head(10)\n"
   ]
  },
  {
   "cell_type": "markdown",
   "metadata": {},
   "source": [
    "## Выделение существенных признаков"
   ]
  },
  {
   "cell_type": "markdown",
   "metadata": {},
   "source": [
    "Запишем итоговую систему признаков и проведем ее анализ. Горизонт прогнозирования h = 1, тогда target = y(t+h)=y(t+1) "
   ]
  },
  {
   "cell_type": "code",
   "execution_count": 32,
   "metadata": {},
   "outputs": [
    {
     "data": {
      "text/plain": [
       "(851, 1)"
      ]
     },
     "execution_count": 32,
     "metadata": {},
     "output_type": "execute_result"
    }
   ],
   "source": [
    "scl_target=StandardScaler() \n",
    "# p = 14\n",
    "h=1\n",
    "target = data_d['PJME_MW'].values[h+p:].reshape((data_d.shape[0]-h-p,1))\n",
    "y = scl_target.fit_transform(target)\n",
    "y.shape"
   ]
  },
  {
   "cell_type": "markdown",
   "metadata": {},
   "source": [
    "Входной набор признаков берем из нашей таблицы. Необходимо помнить, что у нас есть интегральные признаки (для календаря), которые связаны с базовыми признаками. Обычно такие признаки рассматривают отдельно. Однако для эксперимента оставим все признаки для процедуры селекции."
   ]
  },
  {
   "cell_type": "code",
   "execution_count": 33,
   "metadata": {},
   "outputs": [
    {
     "data": {
      "text/plain": [
       "(851, 52)"
      ]
     },
     "execution_count": 33,
     "metadata": {},
     "output_type": "execute_result"
    }
   ],
   "source": [
    "scl_x=StandardScaler() \n",
    "\n",
    "X = data_d.iloc[p:-h,:].values\n",
    "X = scl_x.fit_transform(X.astype('float64'))\n",
    "X.shape"
   ]
  },
  {
   "cell_type": "code",
   "execution_count": 34,
   "metadata": {},
   "outputs": [],
   "source": [
    "X[:7,14]=0"
   ]
  },
  {
   "cell_type": "markdown",
   "metadata": {},
   "source": [
    "Размеры выборок по строкам совпали. Мы взяли на h строк меньше для Х и на h значений позднее по target. Таким образом, входной набор данных сформирован.\n",
    "\n",
    "Как и во всех задачах обучения, системах признаков не идеальна. Есть признаки хорошие, а есть признаки плохие. Применим механизмы  селекции признаков для нашей модели. \n",
    "Рассмотрим механизмы селекции специфичные для регрессий и доступные из scikit-learn. Это два основных способа селекции: \n",
    "- построим или применим метрику взвешивающую связь признака и целевого свойства,\n",
    "- проведем предварительное обучение и проверим влиятельность признаков по результатам такого обучения.\n",
    "\n",
    "Такое решение задачи селекции признаков поддерживается через SelectKBest (отбираем k лучших признаков), SelectPercentile (отбираем заданный процент признаков) и SelectFromModel, соответственно(https://scikit-learn.org/stable/modules/feature_selection.html#univariate-feature-selection). Посмотрим на результаты оценки нашей системы признаков."
   ]
  },
  {
   "cell_type": "code",
   "execution_count": 35,
   "metadata": {},
   "outputs": [
    {
     "name": "stdout",
     "output_type": "stream",
     "text": [
      "F-test=0.97,  I=0\n",
      "F-test=0.00,  I=1\n",
      "F-test=0.00,  I=2\n",
      "F-test=0.00,  I=3\n",
      "F-test=0.00,  I=4\n",
      "F-test=0.00,  I=5\n",
      "F-test=0.00,  I=6\n",
      "F-test=0.00,  I=7\n",
      "F-test=0.00,  I=8\n",
      "F-test=0.00,  I=9\n",
      "F-test=0.00,  I=10\n",
      "F-test=0.00,  I=11\n",
      "F-test=0.00,  I=12\n",
      "F-test=0.02,  I=13\n",
      "F-test=0.02,  I=14\n",
      "F-test=1.00,  I=15\n",
      "F-test=0.22,  I=16\n",
      "F-test=0.02,  I=17\n",
      "F-test=0.01,  I=18\n",
      "F-test=0.01,  I=19\n",
      "F-test=0.02,  I=20\n",
      "F-test=0.03,  I=21\n",
      "F-test=0.04,  I=22\n",
      "F-test=0.05,  I=23\n",
      "F-test=0.21,  I=24\n",
      "F-test=0.27,  I=25\n",
      "F-test=0.29,  I=26\n",
      "F-test=0.27,  I=27\n",
      "F-test=0.19,  I=28\n",
      "F-test=0.12,  I=29\n",
      "F-test=0.06,  I=30\n",
      "F-test=0.01,  I=31\n",
      "F-test=0.00,  I=32\n",
      "F-test=0.02,  I=33\n",
      "F-test=0.07,  I=34\n",
      "F-test=0.15,  I=35\n",
      "F-test=0.30,  I=36\n",
      "F-test=0.51,  I=37\n",
      "F-test=0.01,  I=38\n",
      "F-test=0.00,  I=39\n",
      "F-test=0.00,  I=40\n",
      "F-test=0.00,  I=41\n",
      "F-test=0.01,  I=42\n",
      "F-test=0.01,  I=43\n",
      "F-test=0.02,  I=44\n",
      "F-test=0.03,  I=45\n",
      "F-test=0.04,  I=46\n",
      "F-test=0.04,  I=47\n",
      "F-test=0.04,  I=48\n",
      "F-test=0.03,  I=49\n",
      "F-test=0.02,  I=50\n",
      "F-test=0.02,  I=51\n"
     ]
    }
   ],
   "source": [
    "from sklearn.feature_selection import SelectKBest, SelectPercentile\n",
    "from sklearn.feature_selection import SelectFromModel\n",
    "\n",
    "from sklearn.ensemble import GradientBoostingRegressor\n",
    "\n",
    "from sklearn.feature_selection import f_regression, mutual_info_regression\n",
    "\n",
    "f_test, _ = f_regression(X, y.ravel())\n",
    "f_test /= np.max(f_test)\n",
    "for i in range(X.shape[1]):\n",
    "    print(\"F-test={:.2f},  I={}\".format(f_test[i],i))\n"
   ]
  },
  {
   "cell_type": "markdown",
   "metadata": {},
   "source": [
    "Проверка через F-test показывает, что есть корреляционная связь с предшествующим значением ряда (признак X[:,0]), а кроме этого интересные признаки  от 14 до 21. Применим автоматизацию выбора через SelectKBest c выделением 5 лучших признаков."
   ]
  },
  {
   "cell_type": "code",
   "execution_count": 36,
   "metadata": {},
   "outputs": [
    {
     "data": {
      "text/plain": [
       "(851, 5)"
      ]
     },
     "execution_count": 36,
     "metadata": {},
     "output_type": "execute_result"
    }
   ],
   "source": [
    "sfk =SelectKBest(f_regression, k=5)\n",
    "X_new1 =sfk.fit_transform(X, y.ravel())\n",
    "X_new1.shape"
   ]
  },
  {
   "cell_type": "code",
   "execution_count": 37,
   "metadata": {},
   "outputs": [
    {
     "data": {
      "text/plain": [
       "Index(['PJME_MW', 'diff1_l', 't12', 't2', 't1'], dtype='object')"
      ]
     },
     "execution_count": 37,
     "metadata": {},
     "output_type": "execute_result"
    }
   ],
   "source": [
    "column_names = data_d.columns[sfk.get_support()]\n",
    "column_names"
   ]
  },
  {
   "cell_type": "code",
   "execution_count": 38,
   "metadata": {},
   "outputs": [
    {
     "data": {
      "text/plain": [
       "array([[ 0.91796563,  0.95144502,  0.35285458, -0.38278889,  0.13420816],\n",
       "       [ 0.56833577,  0.62381758, -0.20668864,  0.13652463,  0.92053273],\n",
       "       [ 0.71832492,  0.7659702 ,  0.3330322 ,  0.92262078,  0.57088841],\n",
       "       [-0.10039236, -0.04171478,  0.29388926,  0.57307803,  0.72095035],\n",
       "       [ 0.62201347,  0.6749737 , -0.11309689,  0.72309638, -0.09788764]])"
      ]
     },
     "execution_count": 38,
     "metadata": {},
     "output_type": "execute_result"
    }
   ],
   "source": [
    "X_new1[295:300,:]"
   ]
  },
  {
   "cell_type": "markdown",
   "metadata": {},
   "source": [
    "Лучшее множество признаков отделено в X_new1. Проверим результат оценки признаков по процентному отбору и сохраним его в X_new2."
   ]
  },
  {
   "cell_type": "code",
   "execution_count": 39,
   "metadata": {},
   "outputs": [
    {
     "data": {
      "text/plain": [
       "(851, 6)"
      ]
     },
     "execution_count": 39,
     "metadata": {},
     "output_type": "execute_result"
    }
   ],
   "source": [
    "sfp=SelectPercentile(f_regression, percentile=10)\n",
    "X_new2 = sfp.fit_transform(X, y.ravel())\n",
    "X_new2.shape"
   ]
  },
  {
   "cell_type": "code",
   "execution_count": 40,
   "metadata": {},
   "outputs": [
    {
     "data": {
      "text/plain": [
       "Index(['PJME_MW', 'diff1_l', 't12', 't11', 't2', 't1'], dtype='object')"
      ]
     },
     "execution_count": 40,
     "metadata": {},
     "output_type": "execute_result"
    }
   ],
   "source": [
    "column_namesp = data_d.columns[sfp.get_support()]\n",
    "column_namesp"
   ]
  },
  {
   "cell_type": "markdown",
   "metadata": {},
   "source": [
    "Наконец, третий вариант - применим выделение признаков через построение модели. Помним, что модель должна уметь выбрать подмножество признаков или вернуть коэффициент их влиятельности. Это ограничивает выбор моделей. Возьмем как оценшик GradientBoostingRegressor и построим новое пространство в X_new3"
   ]
  },
  {
   "cell_type": "code",
   "execution_count": 41,
   "metadata": {},
   "outputs": [
    {
     "data": {
      "text/plain": [
       "(851, 5)"
      ]
     },
     "execution_count": 41,
     "metadata": {},
     "output_type": "execute_result"
    }
   ],
   "source": [
    "gr_model = GradientBoostingRegressor(max_depth=5, random_state=40, n_estimators=100).fit(X, y.ravel())\n",
    "sfm = SelectFromModel(gr_model,  max_features = 5)\n",
    "\n",
    "sfm.fit(X, y.ravel())\n",
    "X_new3 = sfm.transform(X)\n",
    "X_new3.shape"
   ]
  },
  {
   "cell_type": "markdown",
   "metadata": {},
   "source": [
    "Сравним результаты:\n"
   ]
  },
  {
   "cell_type": "code",
   "execution_count": 42,
   "metadata": {},
   "outputs": [
    {
     "data": {
      "text/plain": [
       "[array([[ 0.10898398,  0.17251324, -1.12228202, -0.28277666,  0.08568813],\n",
       "        [ 1.78684201,  1.71321349, -0.94337874,  0.0880187 ,  0.11144876],\n",
       "        [ 1.62909384,  1.58005368, -1.22591043,  0.11377185,  1.78964148],\n",
       "        [ 0.56199072,  0.6177495 , -0.14646875,  1.79147706,  1.63182634],\n",
       "        [ 1.89042877,  1.79949516, -1.19228765,  1.63370776,  0.56463583]]),\n",
       " array([[ 0.10898398,  0.17251324, -1.12228202, -0.94093306, -0.28277666,\n",
       "          0.08568813],\n",
       "        [ 1.78684201,  1.71321349, -0.94337874, -1.22315888,  0.0880187 ,\n",
       "          0.11144876],\n",
       "        [ 1.62909384,  1.58005368, -1.22591043, -0.14488583,  0.11377185,\n",
       "          1.78964148],\n",
       "        [ 0.56199072,  0.6177495 , -0.14646875, -1.1895725 ,  1.79147706,\n",
       "          1.63182634],\n",
       "        [ 1.89042877,  1.79949516, -1.19228765, -1.28657196,  1.63370776,\n",
       "          0.56463583]]),\n",
       " array([[ 0.10898398,  0.17251324, -0.94093306, -0.14451556, -1.18879126],\n",
       "        [ 1.78684201,  1.71321349, -1.22315888, -1.18886984, -1.28575837],\n",
       "        [ 1.62909384,  1.58005368, -0.14488583, -1.28583843, -1.12088923],\n",
       "        [ 0.56199072,  0.6177495 , -1.1895725 , -1.12096676, -1.11612857],\n",
       "        [ 1.89042877,  1.79949516, -1.28657196, -1.11620603, -1.14769926]])]"
      ]
     },
     "execution_count": 42,
     "metadata": {},
     "output_type": "execute_result"
    }
   ],
   "source": [
    "[X_new1[10:15,:], X_new2[10:15,:],X_new3[10:15,:]]"
   ]
  },
  {
   "cell_type": "code",
   "execution_count": 43,
   "metadata": {},
   "outputs": [
    {
     "name": "stdout",
     "output_type": "stream",
     "text": [
      "Номера признаков k лучших признаков :  [ 0 15 26 36 37]\n",
      "Номера признаков лучших признаков по процентной форме:  [ 0 15 26 27 36 37]\n",
      "Номера признаков для выбора по модели :  [ 0 15 27 29 30]\n"
     ]
    }
   ],
   "source": [
    "list_param_k =np.where(sfk.get_support())[0]\n",
    "list_param_p =np.where(sfp.get_support())[0]\n",
    "list_param_m =np.where(sfm.get_support())[0]\n",
    "\n",
    "print('Номера признаков k лучших признаков : ',list_param_k)\n",
    "print('Номера признаков лучших признаков по процентной форме: ',list_param_p)\n",
    "print('Номера признаков для выбора по модели : ',list_param_m)"
   ]
  },
  {
   "cell_type": "markdown",
   "metadata": {},
   "source": [
    "Пересечение выбора по отбору для модели и по количественным оценкам связи в признаке 0. Имеет смысл брать объединение выборов. Возьмем [0,6,12,16,15,22,23, ...] признаки и перейдем к построению модели."
   ]
  },
  {
   "cell_type": "code",
   "execution_count": 44,
   "metadata": {},
   "outputs": [
    {
     "data": {
      "text/plain": [
       "Index(['PJME_MW', 'dayofweek', 'pca2', 'd_w7', 'diff1_l', 'exp_0_07',\n",
       "       'exp_0_08', 't13', 't6', 't1'],\n",
       "      dtype='object')"
      ]
     },
     "execution_count": 44,
     "metadata": {},
     "output_type": "execute_result"
    }
   ],
   "source": [
    "list_par=[0,6,12,16,15,22,23,25,32, 37]\n",
    "X_new = X[:,list_par]\n",
    "data_d.columns[list_par]"
   ]
  },
  {
   "cell_type": "code",
   "execution_count": 45,
   "metadata": {},
   "outputs": [],
   "source": [
    "from sklearn.linear_model import LinearRegression "
   ]
  },
  {
   "cell_type": "markdown",
   "metadata": {},
   "source": [
    "\n",
    "## Разделение данных на тестовые и тренировочные \n",
    "\n",
    "Построение модели начинаем с выделения тестовой части нашего ряда. Напомним, что для временных рядов тест - непрерывная часть ряда не входившая в обучение (временные ряды 1). Будем отделять по индексу, который задаст дату разделения модели на тест и обучение."
   ]
  },
  {
   "cell_type": "code",
   "execution_count": 46,
   "metadata": {},
   "outputs": [],
   "source": [
    "# сделаем функцию\n",
    "def split_data( data, split_date ):\n",
    "    return data.loc[data.index.get_level_values('Date') <= split_date].copy(), \\\n",
    "           data.loc[data.index.get_level_values('Date') >  split_date].copy()"
   ]
  },
  {
   "cell_type": "markdown",
   "metadata": {},
   "source": [
    "Для временного ряда \"Потребление энергии\" назначим датой разделения 1/06/2016"
   ]
  },
  {
   "cell_type": "code",
   "execution_count": 47,
   "metadata": {},
   "outputs": [
    {
     "data": {
      "image/png": "[encoded data removed]",
      "text/plain": [
       "<Figure size 1080x504 with 1 Axes>"
      ]
     },
     "metadata": {
      "needs_background": "light"
     },
     "output_type": "display_data"
    }
   ],
   "source": [
    "train, test = split_data( data_d, '01-06-2016')\n",
    "\n",
    "plt.figure( figsize=( 15, 7 ))\n",
    "plt.xlabel('Время')\n",
    "plt.ylabel('Потребление энергии, МВт')\n",
    "plt.plot(train.index.get_level_values('Date'),train['PJME_MW'], label='train data' )\n",
    "plt.plot(test.index.get_level_values('Date'),test['PJME_MW'], label='test data')\n",
    "plt.title( 'Тестовые и тренировочные данные' )\n",
    "plt.legend()\n",
    "plt.show()"
   ]
  },
  {
   "cell_type": "code",
   "execution_count": 48,
   "metadata": {},
   "outputs": [],
   "source": [
    "X_train =X_new[:train.shape[0],:]\n",
    "y_train =y[:train.shape[0],0]\n",
    "X_test =X_new[train.shape[0]:,:]\n",
    "y_test =y[train.shape[0]:,0]"
   ]
  },
  {
   "cell_type": "code",
   "execution_count": 49,
   "metadata": {},
   "outputs": [
    {
     "data": {
      "text/plain": [
       "(731, 52)"
      ]
     },
     "execution_count": 49,
     "metadata": {},
     "output_type": "execute_result"
    }
   ],
   "source": [
    "train.shape"
   ]
  },
  {
   "cell_type": "markdown",
   "metadata": {},
   "source": [
    "Выделим описание объекта и целевое свойство для тестовой и тренировочной частей ряда. Перейдем к построению моделей.  "
   ]
  },
  {
   "cell_type": "markdown",
   "metadata": {},
   "source": [
    "# Строим Модель\n",
    "\n",
    "При решении задачи на начальном этапе, самый интересный результат был получен на модели GradientBoostingRegressor. Остановимся на построении иенно такой формы предсказания. Импортируем необходимые модели."
   ]
  },
  {
   "cell_type": "code",
   "execution_count": 50,
   "metadata": {},
   "outputs": [],
   "source": [
    "from sklearn.ensemble import GradientBoostingRegressor"
   ]
  },
  {
   "cell_type": "raw",
   "metadata": {},
   "source": [
    "Все модели возьмем в варианте параметров по умолчанию, кроме глубины деревьев."
   ]
  },
  {
   "cell_type": "code",
   "execution_count": 51,
   "metadata": {},
   "outputs": [],
   "source": [
    "model_g = GradientBoostingRegressor(max_depth=5, random_state=0, n_estimators=100)"
   ]
  },
  {
   "cell_type": "markdown",
   "metadata": {},
   "source": [
    "Запускаем модели и смотрим , что они построят на наших примерах."
   ]
  },
  {
   "cell_type": "code",
   "execution_count": 52,
   "metadata": {},
   "outputs": [
    {
     "data": {
      "text/plain": [
       "GradientBoostingRegressor(alpha=0.9, ccp_alpha=0.0, criterion='friedman_mse',\n",
       "                          init=None, learning_rate=0.1, loss='ls', max_depth=5,\n",
       "                          max_features=None, max_leaf_nodes=None,\n",
       "                          min_impurity_decrease=0.0, min_impurity_split=None,\n",
       "                          min_samples_leaf=1, min_samples_split=2,\n",
       "                          min_weight_fraction_leaf=0.0, n_estimators=100,\n",
       "                          n_iter_no_change=None, presort='deprecated',\n",
       "                          random_state=0, subsample=1.0, tol=0.0001,\n",
       "                          validation_fraction=0.1, verbose=0, warm_start=False)"
      ]
     },
     "execution_count": 52,
     "metadata": {},
     "output_type": "execute_result"
    }
   ],
   "source": [
    "model_g.fit( X_train, y_train ) # "
   ]
  },
  {
   "cell_type": "markdown",
   "metadata": {},
   "source": [
    "**Посмотрим тесты**"
   ]
  },
  {
   "cell_type": "code",
   "execution_count": 53,
   "metadata": {},
   "outputs": [
    {
     "data": {
      "text/plain": [
       "(120, 10)"
      ]
     },
     "execution_count": 53,
     "metadata": {},
     "output_type": "execute_result"
    }
   ],
   "source": [
    "X_test.shape"
   ]
  },
  {
   "cell_type": "code",
   "execution_count": 54,
   "metadata": {},
   "outputs": [],
   "source": [
    "y_test_pred_g = model_g.predict(X_test)"
   ]
  },
  {
   "cell_type": "code",
   "execution_count": 55,
   "metadata": {},
   "outputs": [
    {
     "data": {
      "image/png": "[encoded data removed]",
      "text/plain": [
       "<Figure size 1080x504 with 1 Axes>"
      ]
     },
     "metadata": {
      "needs_background": "light"
     },
     "output_type": "display_data"
    }
   ],
   "source": [
    "\n",
    "plt.figure( figsize=( 15, 7 ))\n",
    "\n",
    "\n",
    "plt.xlabel('Время')\n",
    "plt.ylabel('Потребление энергии, МВт')\n",
    "plt.plot(test.index[h+p:],y_test_pred_g, label='predict GB data' )\n",
    "plt.plot(test.index[h+p:],y_test, label='test data')\n",
    "\n",
    "plt.legend()\n",
    "plt.show()"
   ]
  },
  {
   "cell_type": "markdown",
   "metadata": {},
   "source": [
    "**Оценки для сравнения моделей**"
   ]
  },
  {
   "cell_type": "markdown",
   "metadata": {},
   "source": [
    "Оценим промах модели, используя метрики, которые можно применять для оценки регрессий https://scikit-learn.org/stable/modules/model_evaluation.html#regression-metrics:\n",
    "- средне-квадратичное отклонение\n",
    "- среднюю абсолютную ошибку\n",
    "- коэфиициент детерминации "
   ]
  },
  {
   "cell_type": "code",
   "execution_count": 56,
   "metadata": {},
   "outputs": [],
   "source": [
    "from sklearn.metrics import mean_squared_error\n",
    "from sklearn.metrics import mean_absolute_error\n",
    "from sklearn.metrics import r2_score\n"
   ]
  },
  {
   "cell_type": "code",
   "execution_count": 57,
   "metadata": {},
   "outputs": [
    {
     "name": "stdout",
     "output_type": "stream",
     "text": [
      "ошибка mse :   0.4764225353465291 \n",
      "ошибка mae  :   0.5720953738037948 \n",
      "оценка R2 :   0.5567824308460757\n"
     ]
    }
   ],
   "source": [
    "er_s = mean_squared_error(y_true=y_test, y_pred=y_test_pred_g) \n",
    "er_a = mean_absolute_error(y_true=y_test, y_pred=y_test_pred_g) \n",
    "er_r2 = r2_score(y_true=y_test, y_pred=y_test_pred_g)\n",
    "\n",
    "print('ошибка mse :  ', er_s,'\\nошибка mae  :  ', er_a,'\\nоценка R2 :  ', er_r2)"
   ]
  },
  {
   "cell_type": "markdown",
   "metadata": {},
   "source": [
    "Абсолютная процентная ошибка (MAPE).Обратите внимание, что определять ее для масштабированной переменной не верно. Пожэтому переведем ответ решателя обратно в состояние без масштаба."
   ]
  },
  {
   "cell_type": "code",
   "execution_count": 58,
   "metadata": {},
   "outputs": [],
   "source": [
    "def mean_absolute_percentage_error(y_true, y_pred): \n",
    "    y_true, y_pred = np.array(y_true), np.array(y_pred)\n",
    "    return np.mean(np.abs((y_true - y_pred) / y_true)) * 100"
   ]
  },
  {
   "cell_type": "code",
   "execution_count": 59,
   "metadata": {},
   "outputs": [
    {
     "name": "stdout",
     "output_type": "stream",
     "text": [
      "ошибка градиентного бустинга MAPE :   7.3790647760210755 %\n"
     ]
    }
   ],
   "source": [
    "er_g = mean_absolute_percentage_error(y_true=scl_target.inverse_transform( y_test),y_pred = scl_target.inverse_transform( y_test_pred_g))\n",
    "\n",
    "print('ошибка градиентного бустинга MAPE :  ', er_g,'%')"
   ]
  },
  {
   "cell_type": "markdown",
   "metadata": {},
   "source": [
    "Анализ на отсутствие корреляции с последующим ответом (проверяем не делаем ли предсказание в стиле \"завтра==сегодня\")"
   ]
  },
  {
   "cell_type": "code",
   "execution_count": 60,
   "metadata": {},
   "outputs": [
    {
     "data": {
      "image/png": "[encoded data removed]",
      "text/plain": [
       "<Figure size 432x288 with 1 Axes>"
      ]
     },
     "metadata": {
      "needs_background": "light"
     },
     "output_type": "display_data"
    }
   ],
   "source": [
    "lag=10\n",
    "p_cor=[np.corrcoef( y_test, y_test_pred_g)[1,0]]\n",
    "for i in range(lag):\n",
    "    c=np.corrcoef( y_test[:-(i+1)], y_test_pred_g[(i+1):])[1,0]\n",
    "    p_cor.append(c)    \n",
    "\n",
    "plt.plot(np.array(p_cor) )  \n",
    "plt.xlabel('лаг корреляции')\n",
    "plt.ylabel('cor_coeff')\n",
    "plt.title('корреляция цели и предсказаний с лагом просмотра')\n",
    "plt.show()"
   ]
  },
  {
   "cell_type": "markdown",
   "metadata": {},
   "source": [
    "Поскольку самое большое значение корреляции не с первым ответом, то не все хорошо. Однако корреляция при лаге 1 меньше 1, а это уже неплохо. "
   ]
  },
  {
   "cell_type": "markdown",
   "metadata": {},
   "source": [
    "Ошибка неплоха, но мы имеем дело с маленьким горизонтом прогноза и тем неменее пока точность предсказания не превышает 95%. \n",
    "Построим более точную модель с использованием поиска моделей. Воспользуемся методом поиска "
   ]
  },
  {
   "cell_type": "code",
   "execution_count": 61,
   "metadata": {},
   "outputs": [
    {
     "name": "stderr",
     "output_type": "stream",
     "text": [
      "C:\\Anaconda\\lib\\site-packages\\sklearn\\model_selection\\_search.py:823: FutureWarning: The parameter 'iid' is deprecated in 0.22 and will be removed in 0.24.\n",
      "  \"removed in 0.24.\", FutureWarning\n"
     ]
    },
    {
     "name": "stdout",
     "output_type": "stream",
     "text": [
      "Model with rank: 1\n",
      "Mean validation score: 0.632 (std: 0.063)\n",
      "Parameters: {'n_estimators': 500, 'max_depth': 5}\n",
      "\n",
      "Model with rank: 2\n",
      "Mean validation score: 0.631 (std: 0.062)\n",
      "Parameters: {'n_estimators': 1200, 'max_depth': 3}\n",
      "\n",
      "Model with rank: 3\n",
      "Mean validation score: 0.598 (std: 0.071)\n",
      "Parameters: {'n_estimators': 1200, 'max_depth': 10}\n",
      "\n"
     ]
    }
   ],
   "source": [
    "from sklearn.model_selection import RandomizedSearchCV\n",
    "\n",
    "def report(results, n_top=3):\n",
    "    for i in range(1, n_top + 1):\n",
    "        candidates = np.flatnonzero(results['rank_test_score'] == i)\n",
    "        for candidate in candidates:\n",
    "            print(\"Model with rank: {0}\".format(i))\n",
    "            print(\"Mean validation score: {0:.3f} (std: {1:.3f})\".format(\n",
    "                  results['mean_test_score'][candidate],\n",
    "                  results['std_test_score'][candidate]))\n",
    "            print(\"Parameters: {0}\".format(results['params'][candidate]))\n",
    "            print(\"\")\n",
    "\n",
    "param_dist = {\"max_depth\": [3, 2,10,14,5], \n",
    "              \"n_estimators\":[100,200,300,400,500, 1000, 1200,1500]}\n",
    "\n",
    "#  randomized search\n",
    "n_iter_search = 10\n",
    "\n",
    "model_gr =GradientBoostingRegressor()\n",
    "\n",
    "random_search = RandomizedSearchCV(model_gr, param_distributions=param_dist, n_iter=n_iter_search, cv=5, iid=False)\n",
    "\n",
    "random_search.fit(X_train, y_train)\n",
    "\n",
    "report(random_search.cv_results_)"
   ]
  },
  {
   "cell_type": "markdown",
   "metadata": {},
   "source": [
    "Выбираем модель с рангом 1. {'n_estimators': 1200, 'max_depth': 2} (в одном из запусков RandomizedSearchCV был лучший резльтат) и проведем ее обучение на тренировочном наборе."
   ]
  },
  {
   "cell_type": "code",
   "execution_count": 62,
   "metadata": {},
   "outputs": [
    {
     "name": "stdout",
     "output_type": "stream",
     "text": [
      "ошибка градиентного бустинга MAPE :   8.02204886262554 %\n"
     ]
    }
   ],
   "source": [
    "model_g_best = GradientBoostingRegressor(max_depth=2,  n_estimators=1200)\n",
    "model_g_best.fit( X_train, y_train ) \n",
    "y_test_pred_g = model_g_best.predict(X_test)\n",
    "\n",
    "er_g = mean_absolute_percentage_error(y_true=scl_target.inverse_transform( y_test),y_pred = scl_target.inverse_transform( y_test_pred_g))\n",
    "print('ошибка градиентного бустинга MAPE :  ', er_g,'%')"
   ]
  },
  {
   "cell_type": "code",
   "execution_count": 63,
   "metadata": {},
   "outputs": [
    {
     "data": {
      "image/png": "[encoded data removed]",
      "text/plain": [
       "<Figure size 432x288 with 1 Axes>"
      ]
     },
     "metadata": {
      "needs_background": "light"
     },
     "output_type": "display_data"
    }
   ],
   "source": [
    "lag=10\n",
    "p_cor=[np.corrcoef( y_test, y_test_pred_g)[1,0]]\n",
    "for i in range(lag):\n",
    "    c=np.corrcoef( y_test[:-(i+1)], y_test_pred_g[(i+1):])[1,0]\n",
    "    p_cor.append(c)    \n",
    "\n",
    "plt.plot(np.array(p_cor) )  \n",
    "plt.xlabel('лаг корреляции')\n",
    "plt.ylabel('cor_coeff')\n",
    "plt.title('корреляция с целью предсказаний с лагом просмотра')\n",
    "plt.show()"
   ]
  },
  {
   "cell_type": "markdown",
   "metadata": {},
   "source": [
    "По корреляциям результат не идеальный , но приемлемый.\n",
    "Качество решения задачи по MAPE повысилось почти на 0.03%. Очевидно, что диапазон вариаций значений был довольно узким и есть возможность поискать решение в более широком выборе параметров и их значений. Кроме того, провели всего 10 итераций поиска, что также не позволяет гарантировать идеальный ответ. Однако даже в такой версии за несколько минут поиска удается улучшить результат исходной модели. "
   ]
  },
  {
   "cell_type": "markdown",
   "metadata": {},
   "source": [
    "## Сохраниение модели"
   ]
  },
  {
   "cell_type": "code",
   "execution_count": 64,
   "metadata": {},
   "outputs": [],
   "source": [
    "import pickle\n",
    "# save the model to disk\n",
    "filename = 'final_model.sav'\n",
    "pickle.dump(model_g_best, open(filename, 'wb'))\n",
    "\n",
    "filename = 'final_scaler_y.sav'\n",
    "pickle.dump(scl_target, open(filename, 'wb'))\n",
    "\n",
    "filename = 'final_scaler_x.sav'\n",
    "pickle.dump(scl_x, open(filename, 'wb'))\n"
   ]
  },
  {
   "cell_type": "code",
   "execution_count": 65,
   "metadata": {},
   "outputs": [
    {
     "data": {
      "text/plain": [
       "(3999.1783859301036, 32111.61790392617)"
      ]
     },
     "execution_count": 65,
     "metadata": {},
     "output_type": "execute_result"
    }
   ],
   "source": [
    "scl_x.scale_[0] , scl_x.mean_[0]"
   ]
  },
  {
   "cell_type": "code",
   "execution_count": 66,
   "metadata": {},
   "outputs": [
    {
     "data": {
      "text/plain": [
       "(3991.680111694593, 32059.544065804934)"
      ]
     },
     "execution_count": 66,
     "metadata": {},
     "output_type": "execute_result"
    }
   ],
   "source": [
    "scl_x.scale_[32] , scl_x.mean_[32]"
   ]
  },
  {
   "cell_type": "markdown",
   "metadata": {},
   "source": [
    "## Использование модели для предсказания n*h моментов времени\n",
    "\n",
    "Мы построили короткий прогноз, но его можно продолжить на следующие точки ряда. Для этого будем использовать результаты прогноза для следующего шага.  Необходимо заменять X_test[t+i, 0] = y_test[t+i-1] и продолжить моделирование в новом состоянии. Сделаем 10 дней прогноза."
   ]
  },
  {
   "cell_type": "markdown",
   "metadata": {},
   "source": [
    "# 4 Дня ПРОГНОЗА"
   ]
  },
  {
   "cell_type": "code",
   "execution_count": 67,
   "metadata": {},
   "outputs": [],
   "source": [
    "X_test_100 = X_test.copy()"
   ]
  },
  {
   "cell_type": "code",
   "execution_count": 68,
   "metadata": {},
   "outputs": [
    {
     "data": {
      "image/png": "[encoded data removed]",
      "text/plain": [
       "<Figure size 1080x504 with 1 Axes>"
      ]
     },
     "metadata": {
      "needs_background": "light"
     },
     "output_type": "display_data"
    }
   ],
   "source": [
    "# ['PJME_MW', 'dayofweek', 'pca2', 'd_w7', 'diff1_l', 'exp_0_07','exp_0_08', 't6', 't1']\n",
    "# ['PJME_MW', 'dayofweek', 'pca2', 'd_w7', 'diff1_l', 'exp_0_07','exp_0_08', 't13', 't6', 't1']\n",
    "#['PJME_MW', 'dayofweek', 'pca2', 'd_w7', 'diff1_l', 'exp_0_07', 'exp_0_08']\n",
    " \n",
    "X_test_100 = X_test.copy()\n",
    "y_test_100 = y_test.copy()\n",
    "N10 = 4\n",
    "for i in range(p,N10+p):\n",
    "    y_test_100[i] = model_g_best.predict(X_test_100[i,:].reshape((1,X_test_100.shape[1])))\n",
    "    # восстанавливаем не масштабированное значение ряда текущей точке  \n",
    "    y_i=scl_target.inverse_transform(y_test_100[i:i+1]  )\n",
    "                                     \n",
    "    # заполняем вектор для прогноза следующей точки\n",
    "    X_test_100[i+1,0] = (y_i-scl_x.mean_[0])/scl_x.scale_[0]\n",
    "    #строим 'exp_0_07', 'exp_0_08'\n",
    "    X_test_100[i+1,6] = X_test_100[i,6]*(1-0.08)+ 0.08 * X_test_100[i+1,0] \n",
    "    X_test_100[i+1,5] = X_test_100[i,5]*(1-0.07)+ 0.07 * X_test_100[i+1,0] \n",
    "    #строим 'd_w7' - признак под номером 3\n",
    "    X_test_100[i+1,3] = np.mean(X_test_100[i-6:i+1,0]) \n",
    "    #строим 'diff1_l' - признак под номером 4\n",
    "    # строим логарифм по значению ряда и скалируем признак по схеме 15-го признака из основного списка\n",
    "    xy_i=(np.log((y_i))-scl_x.mean_[15])*scl_x.scale_[15]\n",
    "    #устанавливаем новое значение для 4\n",
    "    X_test_100[i+1,4] = xy_i \n",
    "    # обновим историю значенний\n",
    "    X_test_100[i+1,7] = X_test_100[i-13,0]\n",
    "    X_test_100[i+1,8] = X_test_100[i-6,0]\n",
    "    \n",
    "    X_test_100[i+1,9] = X_test_100[i-1,0]\n",
    "        \n",
    "    \n",
    "    \n",
    "plt.figure( figsize=( 15, 7 ))\n",
    "\n",
    "\n",
    "plt.xlabel('Время')\n",
    "plt.ylabel('Потребление энергии, МВт')\n",
    "plt.plot(test.index[1:N10+1],y_test_pred_g[:N10], 'r',label='predict GB data' )\n",
    "plt.plot(test.index[1:N10+1],y_test_100[:N10], '--r',label='slide predict data')\n",
    "plt.plot(test.index[1:N10+1],y_test[:N10], 'g',label='test data', alpha=0.5)\n",
    "plt.plot(test.index[p],y_test[p-1], 'og', alpha=1)\n",
    "plt.legend()\n",
    "plt.show()    "
   ]
  },
  {
   "cell_type": "code",
   "execution_count": 69,
   "metadata": {},
   "outputs": [
    {
     "name": "stdout",
     "output_type": "stream",
     "text": [
      "ошибка градиентного бустинга MAPE :   nan %\n"
     ]
    },
    {
     "name": "stderr",
     "output_type": "stream",
     "text": [
      "C:\\Anaconda\\lib\\site-packages\\numpy\\core\\fromnumeric.py:3335: RuntimeWarning: Mean of empty slice.\n",
      "  out=out, **kwargs)\n",
      "C:\\Anaconda\\lib\\site-packages\\numpy\\core\\_methods.py:161: RuntimeWarning: invalid value encountered in double_scalars\n",
      "  ret = ret.dtype.type(ret / rcount)\n"
     ]
    }
   ],
   "source": [
    "er_g = mean_absolute_percentage_error(y_true=scl_target.inverse_transform( y_test[p:N10]),y_pred = scl_target.inverse_transform( y_test_100[p:N10]))\n",
    "print('ошибка градиентного бустинга MAPE :  ', er_g,'%')"
   ]
  },
  {
   "cell_type": "code",
   "execution_count": 103,
   "metadata": {},
   "outputs": [
    {
     "name": "stderr",
     "output_type": "stream",
     "text": [
      "C:\\Anaconda\\lib\\site-packages\\numpy\\core\\fromnumeric.py:3335: RuntimeWarning: Mean of empty slice.\n",
      "  out=out, **kwargs)\n",
      "C:\\Anaconda\\lib\\site-packages\\numpy\\core\\_methods.py:161: RuntimeWarning: invalid value encountered in double_scalars\n",
      "  ret = ret.dtype.type(ret / rcount)\n"
     ]
    },
    {
     "data": {
      "image/png": "[encoded data removed]",
      "text/plain": [
       "<Figure size 432x288 with 1 Axes>"
      ]
     },
     "metadata": {
      "needs_background": "light"
     },
     "output_type": "display_data"
    }
   ],
   "source": [
    "eg_list = []\n",
    "i_list = []\n",
    "for i in range(1,100): \n",
    "    er_g_cycle = mean_absolute_percentage_error(y_true=scl_target.inverse_transform( y_test[p:i]),y_pred = scl_target.inverse_transform( y_test_100[p:i]))\n",
    "    eg_list.append(er_g_cycle)\n",
    "    i_list.append(i)\n",
    "\n",
    "# x = np.array([eg_list])\n",
    "# y = np.array([i_list])\n",
    "x = eg_list\n",
    "y = i_list\n",
    "plt.plot(x,y, label='egr for shag')\n",
    "plt.xlabel('egr')\n",
    "plt.ylabel('shag')\n",
    "plt.title('egr and shag')\n",
    "plt.legend()\n",
    "plt.show()    \n",
    "\n",
    "\n",
    "\n"
   ]
  },
  {
   "cell_type": "markdown",
   "metadata": {},
   "source": [
    "Ошибка прогнозирования выросла до 9%. Однако, мы предсказываем на 10 дней вперед, что само по себе достаточно сложно для любой модели. Промах нарастает с глубиной предсказания. Однако, тенденция прослеживается и на горизонте 10 дней вперед. Таким образом, построили модель однодневных прогнозов и протянули ее на более длинный интервал за счет авторекурсивного обращения к значениям ряда. В простом алгоритме рекурсии следует учесть и изменение скользящих средних, которые не обработаны сейчас. Это потребует обновления не только признака X[:,0], но и признаков 3 и 4, 5, 6 финальной модели ('diff1_l', 'd_w7', 'exp_0_07',  'exp_0_08'). Это конечно требует некоторых усилий при организации обработки, но можно получить неплохой результат на довольно длинном периоде прогнозирования. Помимо этого, мы построим прогноз для каждой точки ряда, а не только для точки h на глубине прогнозирования."
   ]
  },
  {
   "cell_type": "markdown",
   "metadata": {},
   "source": [
    "## Заключение\n",
    "\n",
    "Прогнозирование на основе обучения позволяет эффективно описывать достаточно сложные данные. Построение прогноза на основе генерации регрессионных моделей позволит построить хороший ответ даже не зная как устроен ряд и каковы его статистические свойства. При решении задачи прогнозирования следует учитывать следующие особенности этого подхода:\n",
    "- Строим много признаков.\n",
    "- Обрабатываем признаки и используем результаты статистического анализа ряда для придумывания новых признаков.\n",
    "- Строим много моделей и не забываем, что тестирование моделей идет только на последних точках ряда.\n",
    "- Используем правильные метрики.\n",
    "- Используем авторекурсивную модель.\n",
    "\n"
   ]
  },
  {
   "cell_type": "markdown",
   "metadata": {},
   "source": [
    "## Задание\n",
    "\n",
    "### Вариант 1\n",
    "\n",
    "1. Прочитайте базу my_PJME_MW.csv и сделайте ее перерасчет (ресемплинг) в представление по неделям.\n",
    "\n",
    "2. Постройте модель предсказания 4-й точки от текущей (h = 4), используя результаты автокорреляционного анализа из предшествующих уроков .\n",
    "3. Постройте модель предсказания 1-й точки от текущей (h = 1), используя результаты автокорреляционного анализа из предшествующих уроков.\n",
    "4. Примените авторекурсию и сравните результат в 4-й точке путем прямого моделирования и путем рекурсивного моделирования на длине выборки из 4-х точек. \n",
    "5. Оцените рост ошибки прогнозирования рекурсивной модели в интервалах от 1-й до 10-й, от 10-й до 20-й, от 20-й до 30-й, .. .10*i-й до (i+1)*10 -й,... ,от 90 до 100-й точках (используйте осреденение по десяткам точек)\n",
    "\n",
    "6. Сделайте вывод о том, как изменилось поведение ошибки предсказания ряда.\n",
    "\n",
    "### Вариант 2\n",
    "\n",
    "1. Прочитайте базу COVID19_data.csv .\n",
    "\n",
    "2. Постройте модель предсказания 4-й точки от текущей (h = 4), используя результаты автокорреляционного анализа из предшествующих уроков .\n",
    "\n",
    "3. Постройте модель предсказания 1-й точки от текущей (h = 1), используя результаты автокорреляционного анализа из предшествующих уроков.\n",
    "\n",
    "4. Примените авторекурсию и сравните результат в 4-й точке путем прямого моделирования и путем рекурсивного моделирования на длине выборки из 4-х точек.\n",
    "5. Оцените рост ошибки прогнозирования рекурсивной модели в интервалах от 1-й до 10-й точки\n",
    "\n",
    "6. Сделайте вывод о том, как изменилось поведение ошибки предсказания ряда."
   ]
  },
  {
   "cell_type": "code",
   "execution_count": null,
   "metadata": {},
   "outputs": [],
   "source": []
  }
 ],
 "metadata": {
  "kernelspec": {
   "display_name": "Python 3",
   "language": "python",
   "name": "python3"
  },
  "language_info": {
   "codemirror_mode": {
    "name": "ipython",
    "version": 3
   },
   "file_extension": ".py",
   "mimetype": "text/x-python",
   "name": "python",
   "nbconvert_exporter": "python",
   "pygments_lexer": "ipython3",
   "version": "3.7.6"
  }
 },
 "nbformat": 4,
 "nbformat_minor": 1
}
